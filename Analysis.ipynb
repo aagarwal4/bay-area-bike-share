{
 "cells": [
  {
   "cell_type": "markdown",
   "metadata": {},
   "source": [
    "Let us first read in the SF bay area bike share dataset as a dataframe from MongoDB using SparkSQL."
   ]
  },
  {
   "cell_type": "code",
   "execution_count": 1,
   "metadata": {
    "collapsed": false
   },
   "outputs": [],
   "source": [
    "df = spark.read.format(\"com.mongodb.spark.sql.DefaultSource\").option(\"uri\", \"mongodb://127.0.0.1/msan697.bikeshare\").load()"
   ]
  },
  {
   "cell_type": "code",
   "execution_count": 2,
   "metadata": {
    "collapsed": false
   },
   "outputs": [
    {
     "name": "stdout",
     "output_type": "stream",
     "text": [
      "+--------------------+-------+---------------+---------------+--------+--------+--------------+----------------+----+----------+----------------+------------------+----------+-----------------+-------------------+--------+\n",
      "|                 _id|bike_id|bikes_available|docks_available|duration|end_date|end_station_id|end_station_name|  id|start_date|start_station_id|start_station_name|station_id|subscription_type|               time|zip_code|\n",
      "+--------------------+-------+---------------+---------------+--------+--------+--------------+----------------+----+----------+----------------+------------------+----------+-----------------+-------------------+--------+\n",
      "|[5a5be60f4c0986a6...|   null|              2|             25|    null|    null|          null|            null|null|      null|            null|              null|         2|             null|2013/08/29 12:06:01|    null|\n",
      "|[5a5be60f4c0986a6...|   null|              2|             25|    null|    null|          null|            null|null|      null|            null|              null|         2|             null|2013/08/29 12:09:01|    null|\n",
      "|[5a5be60f4c0986a6...|   null|              2|             25|    null|    null|          null|            null|null|      null|            null|              null|         2|             null|2013/08/29 12:10:01|    null|\n",
      "|[5a5be60f4c0986a6...|   null|              2|             25|    null|    null|          null|            null|null|      null|            null|              null|         2|             null|2013/08/29 12:11:01|    null|\n",
      "|[5a5be60f4c0986a6...|   null|              2|             25|    null|    null|          null|            null|null|      null|            null|              null|         2|             null|2013/08/29 12:12:01|    null|\n",
      "|[5a5be60f4c0986a6...|   null|              2|             25|    null|    null|          null|            null|null|      null|            null|              null|         2|             null|2013/08/29 12:13:01|    null|\n",
      "|[5a5be60f4c0986a6...|   null|              2|             25|    null|    null|          null|            null|null|      null|            null|              null|         2|             null|2013/08/29 12:15:01|    null|\n",
      "|[5a5be60f4c0986a6...|   null|              2|             25|    null|    null|          null|            null|null|      null|            null|              null|         2|             null|2013/08/29 12:07:01|    null|\n",
      "|[5a5be60f4c0986a6...|   null|              2|             25|    null|    null|          null|            null|null|      null|            null|              null|         2|             null|2013/08/29 12:08:01|    null|\n",
      "|[5a5be60f4c0986a6...|   null|              2|             25|    null|    null|          null|            null|null|      null|            null|              null|         2|             null|2013/08/29 12:16:02|    null|\n",
      "+--------------------+-------+---------------+---------------+--------+--------+--------------+----------------+----+----------+----------------+------------------+----------+-----------------+-------------------+--------+\n",
      "only showing top 10 rows\n",
      "\n"
     ]
    }
   ],
   "source": [
    "df.show(n=10)"
   ]
  },
  {
   "cell_type": "code",
   "execution_count": 3,
   "metadata": {
    "collapsed": false
   },
   "outputs": [
    {
     "name": "stdout",
     "output_type": "stream",
     "text": [
      "root\n",
      " |-- _id: struct (nullable = true)\n",
      " |    |-- oid: string (nullable = true)\n",
      " |-- bike_id: integer (nullable = true)\n",
      " |-- bikes_available: integer (nullable = true)\n",
      " |-- docks_available: integer (nullable = true)\n",
      " |-- duration: integer (nullable = true)\n",
      " |-- end_date: string (nullable = true)\n",
      " |-- end_station_id: integer (nullable = true)\n",
      " |-- end_station_name: string (nullable = true)\n",
      " |-- id: integer (nullable = true)\n",
      " |-- start_date: string (nullable = true)\n",
      " |-- start_station_id: integer (nullable = true)\n",
      " |-- start_station_name: string (nullable = true)\n",
      " |-- station_id: integer (nullable = true)\n",
      " |-- subscription_type: string (nullable = true)\n",
      " |-- time: string (nullable = true)\n",
      " |-- zip_code: string (nullable = true)\n",
      "\n"
     ]
    }
   ],
   "source": [
    "df.printSchema()"
   ]
  },
  {
   "cell_type": "code",
   "execution_count": 4,
   "metadata": {
    "collapsed": false
   },
   "outputs": [
    {
     "name": "stdout",
     "output_type": "stream",
     "text": [
      "+--------+\n",
      "|duration|\n",
      "+--------+\n",
      "|     761|\n",
      "|     586|\n",
      "|     441|\n",
      "|    1500|\n",
      "|     346|\n",
      "+--------+\n",
      "only showing top 5 rows\n",
      "\n"
     ]
    }
   ],
   "source": [
    "df.select(\"duration\").where(df[\"duration\"].isNotNull()).show(n=5)"
   ]
  }
 ],
 "metadata": {
  "anaconda-cloud": {},
  "kernelspec": {
   "display_name": "Python [Root]",
   "language": "python",
   "name": "Python [Root]"
  },
  "language_info": {
   "codemirror_mode": {
    "name": "ipython",
    "version": 3
   },
   "file_extension": ".py",
   "mimetype": "text/x-python",
   "name": "python",
   "nbconvert_exporter": "python",
   "pygments_lexer": "ipython3",
   "version": "3.5.2"
  }
 },
 "nbformat": 4,
 "nbformat_minor": 2
}

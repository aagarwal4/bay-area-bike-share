{
 "cells": [
  {
   "cell_type": "code",
   "execution_count": 1,
   "metadata": {
    "collapsed": true
   },
   "outputs": [],
   "source": [
    "from pyspark.sql import Row, SQLContext\n",
    "from pyspark.sql.types  import *\n",
    "from pyspark.sql.functions import *\n",
    "from pyspark.ml.feature import VectorAssembler\n",
    "from pyspark.ml.classification import DecisionTreeClassifier\n",
    "from pyspark.ml.evaluation import MulticlassClassificationEvaluator\n",
    "from pyspark.ml.feature import StringIndexer"
   ]
  },
  {
   "cell_type": "markdown",
   "metadata": {},
   "source": [
    "### Importing DataFrame objects from MongoDB "
   ]
  },
  {
   "cell_type": "code",
   "execution_count": 2,
   "metadata": {
    "collapsed": true
   },
   "outputs": [],
   "source": [
    "statusDF = spark.read.format(\"com.mongodb.spark.sql.DefaultSource\").option(\"uri\", \"mongodb://127.0.0.1/msan697.status\").load()\n",
    "\n",
    "stationDF = spark.read.format(\"com.mongodb.spark.sql.DefaultSource\").option(\"uri\", \"mongodb://127.0.0.1/msan697.station\").load()\n",
    "\n",
    "weatherDF = spark.read.format(\"com.mongodb.spark.sql.DefaultSource\").option(\"uri\", \"mongodb://127.0.0.1/msan697.weather\").load()\n",
    "\n",
    "tripDF = spark.read.format(\"com.mongodb.spark.sql.DefaultSource\").option(\"uri\", \"mongodb://127.0.0.1/msan697.trip\").load()"
   ]
  },
  {
   "cell_type": "code",
   "execution_count": 3,
   "metadata": {
    "collapsed": false
   },
   "outputs": [
    {
     "name": "stdout",
     "output_type": "stream",
     "text": [
      "+--------------------+---------------+---------------+----------+-------------------+\n",
      "|                 _id|bikes_available|docks_available|station_id|               time|\n",
      "+--------------------+---------------+---------------+----------+-------------------+\n",
      "|[5a5d49a291bd3626...|              2|             25|         2|2013/08/29 12:06:01|\n",
      "|[5a5d49a291bd3626...|              2|             25|         2|2013/08/29 12:07:01|\n",
      "|[5a5d49a291bd3626...|              2|             25|         2|2013/08/29 12:08:01|\n",
      "|[5a5d49a291bd3626...|              2|             25|         2|2013/08/29 12:09:01|\n",
      "|[5a5d49a291bd3626...|              2|             25|         2|2013/08/29 12:10:01|\n",
      "+--------------------+---------------+---------------+----------+-------------------+\n",
      "only showing top 5 rows\n",
      "\n"
     ]
    }
   ],
   "source": [
    "statusDF.show(n=5)"
   ]
  },
  {
   "cell_type": "code",
   "execution_count": 4,
   "metadata": {
    "collapsed": false
   },
   "outputs": [
    {
     "name": "stdout",
     "output_type": "stream",
     "text": [
      "+--------------------+--------+----------+---+-----------------+------------------+-------------------+--------------------+\n",
      "|                 _id|    city|dock_count| id|installation_date|               lat|               long|                name|\n",
      "+--------------------+--------+----------+---+-----------------+------------------+-------------------+--------------------+\n",
      "|[5a5d498991bd3626...|San Jose|        19|  5|         8/5/2013|         37.331415|          -121.8932|    Adobe on Almaden|\n",
      "|[5a5d498991bd3626...|San Jose|        15|  6|         8/7/2013|37.336721000000004|        -121.894074|    San Pedro Square|\n",
      "|[5a5d498991bd3626...|San Jose|        15|  7|         8/7/2013|         37.333798|-121.88694299999999|Paseo de San Antonio|\n",
      "|[5a5d498991bd3626...|San Jose|        15|  8|         8/5/2013|         37.330165|-121.88583100000001| San Salvador at 1st|\n",
      "|[5a5d498991bd3626...|San Jose|        15|  9|         8/5/2013|         37.348742|-121.89471499999999|           Japantown|\n",
      "+--------------------+--------+----------+---+-----------------+------------------+-------------------+--------------------+\n",
      "only showing top 5 rows\n",
      "\n"
     ]
    }
   ],
   "source": [
    "stationDF.show(n=5)"
   ]
  },
  {
   "cell_type": "code",
   "execution_count": 5,
   "metadata": {
    "collapsed": false
   },
   "outputs": [
    {
     "name": "stdout",
     "output_type": "stream",
     "text": [
      "+--------------------+-----------+---------+------+---------------+------------------+------------+-----------------------------+-----------------+--------------------+------------------+----------------+-------------+------------------------------+------------------+---------------------+-------------------+---------------+------------+-----------------------------+-----------------+--------------------+--------------------+----------------+--------+\n",
      "|                 _id|cloud_cover|     date|events|max_dew_point_f|max_gust_speed_mph|max_humidity|max_sea_level_pressure_inches|max_temperature_f|max_visibility_miles|max_wind_Speed_mph|mean_dew_point_f|mean_humidity|mean_sea_level_pressure_inches|mean_temperature_f|mean_visibility_miles|mean_wind_speed_mph|min_dew_point_f|min_humidity|min_sea_level_pressure_inches|min_temperature_f|min_visibility_miles|precipitation_inches|wind_dir_degrees|zip_code|\n",
      "+--------------------+-----------+---------+------+---------------+------------------+------------+-----------------------------+-----------------+--------------------+------------------+----------------+-------------+------------------------------+------------------+---------------------+-------------------+---------------+------------+-----------------------------+-----------------+--------------------+--------------------+----------------+--------+\n",
      "|[5a5d4ebd91bd3626...|        4.0|8/29/2013|      |           61.0|              28.0|        93.0|                        30.07|             74.0|                10.0|              23.0|            58.0|         75.0|                         30.02|              68.0|                 10.0|               11.0|           56.0|        57.0|                        29.97|             61.0|                10.0|                   0|           286.0|   94107|\n",
      "|[5a5d4ebd91bd3626...|        6.0| 9/2/2013|      |           61.0|              30.0|        93.0|                        29.97|             75.0|                10.0|              23.0|            60.0|         77.0|                         29.94|              69.0|                 10.0|               12.0|           58.0|        61.0|                         29.9|             62.0|                 6.0|                   0|           277.0|   94107|\n",
      "+--------------------+-----------+---------+------+---------------+------------------+------------+-----------------------------+-----------------+--------------------+------------------+----------------+-------------+------------------------------+------------------+---------------------+-------------------+---------------+------------+-----------------------------+-----------------+--------------------+--------------------+----------------+--------+\n",
      "only showing top 2 rows\n",
      "\n"
     ]
    }
   ],
   "source": [
    "weatherDF.show(n=2)"
   ]
  },
  {
   "cell_type": "code",
   "execution_count": 6,
   "metadata": {
    "collapsed": false
   },
   "outputs": [
    {
     "name": "stdout",
     "output_type": "stream",
     "text": [
      "+--------------------+-------+--------+---------------+--------------+--------------------+----+---------------+----------------+--------------------+-----------------+--------+\n",
      "|                 _id|bike_id|duration|       end_date|end_station_id|    end_station_name|  id|     start_date|start_station_id|  start_station_name|subscription_type|zip_code|\n",
      "+--------------------+-------+--------+---------------+--------------+--------------------+----+---------------+----------------+--------------------+-----------------+--------+\n",
      "|[5a5d4ec891bd3626...|    520|      63|8/29/2013 14:14|            66|South Van Ness at...|4576|8/29/2013 14:13|              66|South Van Ness at...|       Subscriber|   94127|\n",
      "|[5a5d4ec891bd3626...|    661|      70|8/29/2013 14:43|            10|  San Jose City Hall|4607|8/29/2013 14:42|              10|  San Jose City Hall|       Subscriber|   95138|\n",
      "|[5a5d4ec891bd3626...|     48|      71|8/29/2013 10:17|            27|Mountain View Cit...|4130|8/29/2013 10:16|              27|Mountain View Cit...|       Subscriber|   97214|\n",
      "|[5a5d4ec891bd3626...|     26|      77|8/29/2013 11:30|            10|  San Jose City Hall|4251|8/29/2013 11:29|              10|  San Jose City Hall|       Subscriber|   95060|\n",
      "|[5a5d4ec891bd3626...|    319|      83|8/29/2013 12:04|            67|      Market at 10th|4299|8/29/2013 12:02|              66|South Van Ness at...|       Subscriber|   94103|\n",
      "+--------------------+-------+--------+---------------+--------------+--------------------+----+---------------+----------------+--------------------+-----------------+--------+\n",
      "only showing top 5 rows\n",
      "\n"
     ]
    }
   ],
   "source": [
    "tripDF.show(n=5)"
   ]
  },
  {
   "cell_type": "code",
   "execution_count": 7,
   "metadata": {
    "collapsed": false
   },
   "outputs": [
    {
     "data": {
      "text/plain": [
       "['_id', 'bikes_available', 'docks_available', 'station_id', 'time']"
      ]
     },
     "execution_count": 7,
     "metadata": {},
     "output_type": "execute_result"
    }
   ],
   "source": [
    "statusDF.columns"
   ]
  },
  {
   "cell_type": "code",
   "execution_count": 8,
   "metadata": {
    "collapsed": false
   },
   "outputs": [
    {
     "data": {
      "text/plain": [
       "['_id',\n",
       " 'bike_id',\n",
       " 'duration',\n",
       " 'end_date',\n",
       " 'end_station_id',\n",
       " 'end_station_name',\n",
       " 'id',\n",
       " 'start_date',\n",
       " 'start_station_id',\n",
       " 'start_station_name',\n",
       " 'subscription_type',\n",
       " 'zip_code']"
      ]
     },
     "execution_count": 8,
     "metadata": {},
     "output_type": "execute_result"
    }
   ],
   "source": [
    "tripDF.columns"
   ]
  },
  {
   "cell_type": "markdown",
   "metadata": {},
   "source": [
    "### Adding features "
   ]
  },
  {
   "cell_type": "markdown",
   "metadata": {},
   "source": [
    "#### Weekday/Weekend "
   ]
  },
  {
   "cell_type": "code",
   "execution_count": 9,
   "metadata": {
    "collapsed": false
   },
   "outputs": [],
   "source": [
    "#Adding day of week column\n",
    "statusDF = statusDF.withColumn('dayofweek',date_format(from_unixtime(unix_timestamp(statusDF[\"time\"][0:10], 'yyyy/MM/dd')),'EEEE'))"
   ]
  },
  {
   "cell_type": "code",
   "execution_count": 10,
   "metadata": {
    "collapsed": false
   },
   "outputs": [
    {
     "name": "stdout",
     "output_type": "stream",
     "text": [
      "+-------------------+---------+\n",
      "|               time|dayofweek|\n",
      "+-------------------+---------+\n",
      "|2013/08/29 12:06:01| Thursday|\n",
      "|2013/08/29 12:07:01| Thursday|\n",
      "|2013/08/29 12:08:01| Thursday|\n",
      "|2013/08/29 12:09:01| Thursday|\n",
      "|2013/08/29 12:10:01| Thursday|\n",
      "+-------------------+---------+\n",
      "only showing top 5 rows\n",
      "\n"
     ]
    }
   ],
   "source": [
    "statusDF.select('time','dayofweek').show(n=5)"
   ]
  },
  {
   "cell_type": "code",
   "execution_count": 11,
   "metadata": {
    "collapsed": true
   },
   "outputs": [],
   "source": [
    "#Adding weekend column\n",
    "statusDF = statusDF.withColumn(\"weekend\", when(col('dayofweek') == 'Saturday',1).when(col('dayofweek') == 'Sunday', 1).otherwise(0))\n",
    "#Adding weekday column\n",
    "statusDF = statusDF.withColumn(\"weekday\", when(col('dayofweek') == 'Saturday',0).when(col('dayofweek') == 'Sunday', 0).otherwise(1))"
   ]
  },
  {
   "cell_type": "code",
   "execution_count": 12,
   "metadata": {
    "collapsed": false
   },
   "outputs": [
    {
     "name": "stdout",
     "output_type": "stream",
     "text": [
      "+-------------------+---------+-------+-------+\n",
      "|               time|dayofweek|weekend|weekday|\n",
      "+-------------------+---------+-------+-------+\n",
      "|2013/09/01 00:00:02|   Sunday|      1|      0|\n",
      "+-------------------+---------+-------+-------+\n",
      "only showing top 1 row\n",
      "\n"
     ]
    }
   ],
   "source": [
    "#Checking output\n",
    "statusDF.select('time','dayofweek','weekend','weekday').where(statusDF.dayofweek == \"Sunday\").show(n=1)"
   ]
  },
  {
   "cell_type": "markdown",
   "metadata": {
    "collapsed": true
   },
   "source": [
    "#### Hour of Day/Morning/Afternoon/Evening/Night "
   ]
  },
  {
   "cell_type": "code",
   "execution_count": 13,
   "metadata": {
    "collapsed": false
   },
   "outputs": [],
   "source": [
    "#Adding hourofday column\n",
    "statusDF = statusDF.withColumn('hourofday',statusDF[\"time\"][12:2])"
   ]
  },
  {
   "cell_type": "markdown",
   "metadata": {
    "collapsed": true
   },
   "source": [
    "We define morning as the time between 5am and 12pm, afternoon between 12pm and 5pm, evening between 5pm and 11pm and night between 11pm and 5am."
   ]
  },
  {
   "cell_type": "code",
   "execution_count": 14,
   "metadata": {
    "collapsed": true
   },
   "outputs": [],
   "source": [
    "#Adding morning column\n",
    "statusDF = statusDF.withColumn(\"morning\", when(col('hourofday').between(5,11),1).otherwise(0))\n",
    "#Adding afternoon column\n",
    "statusDF = statusDF.withColumn(\"afternoon\", when(col('hourofday').between(12,16),1).otherwise(0))\n",
    "#Adding evening column\n",
    "statusDF = statusDF.withColumn(\"evening\", when(col('hourofday').between(17,22),1).otherwise(0))\n",
    "#Adding night column\n",
    "statusDF = statusDF.withColumn(\"night\", when(col('hourofday').between(23,24), 1).when(col('hourofday').between(0,4),1).otherwise(0))"
   ]
  },
  {
   "cell_type": "code",
   "execution_count": 15,
   "metadata": {
    "collapsed": false
   },
   "outputs": [
    {
     "name": "stdout",
     "output_type": "stream",
     "text": [
      "+-------------------+---------+-------+---------+-------+-----+\n",
      "|               time|hourofday|morning|afternoon|evening|night|\n",
      "+-------------------+---------+-------+---------+-------+-----+\n",
      "|2013/08/29 12:06:01|       12|      0|        1|      0|    0|\n",
      "|2013/08/29 12:07:01|       12|      0|        1|      0|    0|\n",
      "|2013/08/29 12:08:01|       12|      0|        1|      0|    0|\n",
      "|2013/08/29 12:09:01|       12|      0|        1|      0|    0|\n",
      "|2013/08/29 12:10:01|       12|      0|        1|      0|    0|\n",
      "+-------------------+---------+-------+---------+-------+-----+\n",
      "only showing top 5 rows\n",
      "\n"
     ]
    }
   ],
   "source": [
    "statusDF.select('time','hourofday','morning','afternoon','evening','night').show(n=5)"
   ]
  },
  {
   "cell_type": "markdown",
   "metadata": {
    "collapsed": true
   },
   "source": [
    "#### Month"
   ]
  },
  {
   "cell_type": "code",
   "execution_count": 16,
   "metadata": {
    "collapsed": false
   },
   "outputs": [],
   "source": [
    "#Adding month column\n",
    "statusDF = statusDF.withColumn('month',month(from_unixtime(unix_timestamp(statusDF[\"time\"][0:10], 'yyyy/MM/dd'))))\n",
    "# Adding year column\n",
    "statusDF = statusDF.withColumn('year',year(from_unixtime(unix_timestamp(statusDF[\"time\"][0:10], 'yyyy/MM/dd'))))"
   ]
  },
  {
   "cell_type": "code",
   "execution_count": 17,
   "metadata": {
    "collapsed": false
   },
   "outputs": [
    {
     "name": "stdout",
     "output_type": "stream",
     "text": [
      "+-------------------+-----+----+\n",
      "|               time|month|year|\n",
      "+-------------------+-----+----+\n",
      "|2013/08/29 12:06:01|    8|2013|\n",
      "|2013/08/29 12:07:01|    8|2013|\n",
      "|2013/08/29 12:08:01|    8|2013|\n",
      "|2013/08/29 12:09:01|    8|2013|\n",
      "|2013/08/29 12:10:01|    8|2013|\n",
      "+-------------------+-----+----+\n",
      "only showing top 5 rows\n",
      "\n"
     ]
    }
   ],
   "source": [
    "statusDF.select('time','month', 'year').show(n=5)"
   ]
  },
  {
   "cell_type": "code",
   "execution_count": 19,
   "metadata": {
    "collapsed": false
   },
   "outputs": [
    {
     "name": "stdout",
     "output_type": "stream",
     "text": [
      "+----------+-------+-------+-------+---------+-------+-----+---------+-----+----+\n",
      "|station_id|weekend|weekday|morning|afternoon|evening|night|hourofday|month|year|\n",
      "+----------+-------+-------+-------+---------+-------+-----+---------+-----+----+\n",
      "|         2|      0|      1|      0|        1|      0|    0|       12|    8|2013|\n",
      "|         2|      0|      1|      0|        1|      0|    0|       12|    8|2013|\n",
      "|         2|      0|      1|      0|        1|      0|    0|       12|    8|2013|\n",
      "|         2|      0|      1|      0|        1|      0|    0|       12|    8|2013|\n",
      "|         2|      0|      1|      0|        1|      0|    0|       12|    8|2013|\n",
      "|         2|      0|      1|      0|        1|      0|    0|       12|    8|2013|\n",
      "|         2|      0|      1|      0|        1|      0|    0|       12|    8|2013|\n",
      "|         2|      0|      1|      0|        1|      0|    0|       12|    8|2013|\n",
      "|         2|      0|      1|      0|        1|      0|    0|       12|    8|2013|\n",
      "|         2|      0|      1|      0|        1|      0|    0|       12|    8|2013|\n",
      "+----------+-------+-------+-------+---------+-------+-----+---------+-----+----+\n",
      "only showing top 10 rows\n",
      "\n"
     ]
    }
   ],
   "source": [
    "#Features so far\n",
    "statusDF.select('station_id', 'weekend', 'weekday', 'morning', 'afternoon', 'evening', 'night', 'hourofday', 'month','year').show(n=10)"
   ]
  },
  {
   "cell_type": "markdown",
   "metadata": {},
   "source": [
    "##### Weather Table"
   ]
  },
  {
   "cell_type": "code",
   "execution_count": 20,
   "metadata": {
    "collapsed": false
   },
   "outputs": [],
   "source": [
    "weatherDF = weatherDF.withColumn(\"events\", when(col('events') == 'Fog', 1).\\\n",
    "                                 when(col('events').like ('%ain'),2).\\\n",
    "                                 when(col('events') == 'Fog-Rain',3).\\\n",
    "                                 when(col('events') == 'Rain-Thunderstorm',4).\\\n",
    "                                 otherwise(0))"
   ]
  },
  {
   "cell_type": "markdown",
   "metadata": {},
   "source": [
    "#### Station Table"
   ]
  },
  {
   "cell_type": "code",
   "execution_count": 21,
   "metadata": {
    "collapsed": false
   },
   "outputs": [],
   "source": [
    "# add age of the docks\n",
    "stationDF = stationDF.withColumn('age', \\\n",
    "               datediff(from_unixtime(unix_timestamp(date_format(current_date(), \"M/d/y\"), 'MM/dd/yyy')),\\\n",
    "                              from_unixtime(unix_timestamp(stationDF['installation_date'], 'MM/dd/yyy'))))"
   ]
  },
  {
   "cell_type": "code",
   "execution_count": 22,
   "metadata": {
    "collapsed": false
   },
   "outputs": [
    {
     "data": {
      "text/plain": [
       "[Row(_id=Row(oid='5a5d498991bd3626222c4b61'), city='San Jose', dock_count=19, id=5, installation_date='8/5/2013', lat=37.331415, long=-121.8932, name='Adobe on Almaden', age=1626)]"
      ]
     },
     "execution_count": 22,
     "metadata": {},
     "output_type": "execute_result"
    }
   ],
   "source": [
    "stationDF.take(1)"
   ]
  },
  {
   "cell_type": "markdown",
   "metadata": {},
   "source": [
    "##### Trip Table"
   ]
  },
  {
   "cell_type": "code",
   "execution_count": 27,
   "metadata": {
    "collapsed": false
   },
   "outputs": [],
   "source": [
    "tripDF = tripDF.withColumn('start_date', concat(col('start_date'),lit(':00'))).withColumn('end_date', concat(col('end_date'),lit(':00')))"
   ]
  },
  {
   "cell_type": "code",
   "execution_count": 28,
   "metadata": {
    "collapsed": false
   },
   "outputs": [],
   "source": [
    "tripDF = tripDF.withColumn('dayofweek',date_format(from_unixtime(unix_timestamp('start_date', 'MM/dd/yyy HH:mm:ss')),'EEEE'))\\\n",
    ".withColumn(\"weekend\", when(col('dayofweek') == 'Saturday',1).when(col('dayofweek') == 'Sunday', 1).otherwise(0))\\\n",
    ".withColumn(\"weekday\", when(col('dayofweek') == 'Saturday',0).when(col('dayofweek') == 'Sunday', 0).otherwise(1))\\\n",
    ".withColumn('hourofday',hour(from_unixtime(unix_timestamp('start_date', 'MM/dd/yyy HH:mm:ss'))))\\\n",
    ".withColumn('month',month(from_unixtime(unix_timestamp('start_date', 'MM/dd/yyy HH:mm:ss'))))\\\n",
    ".withColumn('year',year(from_unixtime(unix_timestamp('start_date', 'MM/dd/yyy HH:mm:ss'))))"
   ]
  },
  {
   "cell_type": "code",
   "execution_count": 29,
   "metadata": {
    "collapsed": false
   },
   "outputs": [
    {
     "data": {
      "text/plain": [
       "[Row(_id=Row(oid='5a5d4ec891bd36262276bf2a'), bike_id=520, duration=63, end_date='8/29/2013 14:14:00', end_station_id=66, end_station_name='South Van Ness at Market', id=4576, start_date='8/29/2013 14:13:00', start_station_id=66, start_station_name='South Van Ness at Market', subscription_type='Subscriber', zip_code='94127', dayofweek='Thursday', weekend=0, weekday=1, hourofday=14, month=8, year=2013)]"
      ]
     },
     "execution_count": 29,
     "metadata": {},
     "output_type": "execute_result"
    }
   ],
   "source": [
    "tripDF.take(1)"
   ]
  },
  {
   "cell_type": "code",
   "execution_count": 30,
   "metadata": {
    "collapsed": false
   },
   "outputs": [],
   "source": [
    "outgoing_bikesDF = tripDF.groupBy('zip_code', 'start_station_id', 'hourofday', 'weekend', 'weekday', 'month', 'year').agg(count('*').alias('outgoing_bikes_count'))"
   ]
  },
  {
   "cell_type": "code",
   "execution_count": 31,
   "metadata": {
    "collapsed": false
   },
   "outputs": [],
   "source": [
    "incoming_bikesDF = tripDF.groupBy('zip_code', 'end_station_id', 'hourofday' , 'weekend', 'weekday', 'month', 'year').agg(count('*').alias('incoming_bikes_count'))"
   ]
  },
  {
   "cell_type": "code",
   "execution_count": 32,
   "metadata": {
    "collapsed": false
   },
   "outputs": [
    {
     "data": {
      "text/plain": [
       "DataFrame[]"
      ]
     },
     "execution_count": 32,
     "metadata": {},
     "output_type": "execute_result"
    }
   ],
   "source": [
    "sqlContext.sql(\"drop table if exists outgoing_bikesDF\")\n",
    "sqlContext.sql(\"drop table if exists incoming_bikesDF\")"
   ]
  },
  {
   "cell_type": "code",
   "execution_count": 33,
   "metadata": {
    "collapsed": false
   },
   "outputs": [],
   "source": [
    "outgoing_bikesDF.write.saveAsTable(\"outgoing_bikesDF\")\n",
    "incoming_bikesDF.write.saveAsTable(\"incoming_bikesDF\")"
   ]
  },
  {
   "cell_type": "code",
   "execution_count": 34,
   "metadata": {
    "collapsed": false
   },
   "outputs": [
    {
     "data": {
      "text/plain": [
       "[Row(zip_code='94115', end_station_id=50, hourofday=22, weekend=0, weekday=1, month=8, year=2013, incoming_bikes_count=1)]"
      ]
     },
     "execution_count": 34,
     "metadata": {},
     "output_type": "execute_result"
    }
   ],
   "source": [
    "incoming_bikesDF.take(1)"
   ]
  },
  {
   "cell_type": "code",
   "execution_count": 35,
   "metadata": {
    "collapsed": false
   },
   "outputs": [],
   "source": [
    "joined_df = sqlContext.sql(\"\"\"\n",
    "SELECT outgoing_bikesDF.zip_code AS zip_code,\n",
    "start_station_id,\n",
    "end_station_id,\n",
    "outgoing_bikesDF.hourofday AS hourofday,\n",
    "outgoing_bikesDF.weekend AS weekend,\n",
    "outgoing_bikesDF.weekday AS weekday,\n",
    "outgoing_bikesDF.month AS month,\n",
    "outgoing_bikesDF.year AS year,\n",
    "outgoing_bikes_count,\n",
    "incoming_bikes_count\n",
    "FROM outgoing_bikesDF LEFT JOIN incoming_bikesDF \n",
    "on outgoing_bikesDF.start_station_id = incoming_bikesDF.end_station_id\n",
    "and outgoing_bikesDF.hourofday = incoming_bikesDF.hourofday\n",
    "and outgoing_bikesDF.weekend = incoming_bikesDF.weekend\n",
    "and outgoing_bikesDF.weekday = incoming_bikesDF.weekday\n",
    "and outgoing_bikesDF.month = incoming_bikesDF.month\n",
    "and outgoing_bikesDF.year = incoming_bikesDF.year\n",
    "\"\"\")"
   ]
  },
  {
   "cell_type": "code",
   "execution_count": 36,
   "metadata": {
    "collapsed": false
   },
   "outputs": [
    {
     "data": {
      "text/plain": [
       "[Row(_id=Row(oid='5a5d49a291bd3626222c4ba7'), bikes_available=2, docks_available=25, station_id=2, time='2013/08/29 12:06:01', dayofweek='Thursday', weekend=0, weekday=1, hourofday='12', morning=0, afternoon=1, evening=0, night=0, month=8, year=2013)]"
      ]
     },
     "execution_count": 36,
     "metadata": {},
     "output_type": "execute_result"
    }
   ],
   "source": [
    "statusDF.take(1)"
   ]
  },
  {
   "cell_type": "code",
   "execution_count": 37,
   "metadata": {
    "collapsed": false
   },
   "outputs": [],
   "source": [
    "statusDF = statusDF.withColumn(\"hourofday\", statusDF[\"hourofday\"].cast(IntegerType()))"
   ]
  },
  {
   "cell_type": "code",
   "execution_count": 38,
   "metadata": {
    "collapsed": false
   },
   "outputs": [
    {
     "data": {
      "text/plain": [
       "[Row(_id=Row(oid='5a5d498991bd3626222c4b61'), city='San Jose', dock_count=19, id=5, installation_date='8/5/2013', lat=37.331415, long=-121.8932, name='Adobe on Almaden', age=1626, zip_code='94002', start_station_id=5, end_station_id=5, hourofday=15, weekend=0, weekday=1, month=1, year=2014, outgoing_bikes_count=5, incoming_bikes_count=1)]"
      ]
     },
     "execution_count": 38,
     "metadata": {},
     "output_type": "execute_result"
    }
   ],
   "source": [
    "stationDF.join(joined_df, stationDF.id == joined_df.end_station_id, how='left').take(1)"
   ]
  },
  {
   "cell_type": "code",
   "execution_count": 39,
   "metadata": {
    "collapsed": false
   },
   "outputs": [],
   "source": [
    "joined_df2 = stationDF.join(joined_df, stationDF.id == joined_df.end_station_id, how='left')"
   ]
  },
  {
   "cell_type": "code",
   "execution_count": 40,
   "metadata": {
    "collapsed": false
   },
   "outputs": [
    {
     "data": {
      "text/plain": [
       "([Row(_id=Row(oid='5a5d498991bd3626222c4b61'), city='San Jose', dock_count=19, id=5, installation_date='8/5/2013', lat=37.331415, long=-121.8932, name='Adobe on Almaden', age=1626, zip_code='94002', start_station_id=5, end_station_id=5, hourofday=15, weekend=0, weekday=1, month=1, year=2014, outgoing_bikes_count=5, incoming_bikes_count=1)],\n",
       " [Row(_id=Row(oid='5a5d49a291bd3626222c4ba7'), bikes_available=2, docks_available=25, station_id=2, time='2013/08/29 12:06:01', dayofweek='Thursday', weekend=0, weekday=1, hourofday=12, morning=0, afternoon=1, evening=0, night=0, month=8, year=2013)])"
      ]
     },
     "execution_count": 40,
     "metadata": {},
     "output_type": "execute_result"
    }
   ],
   "source": [
    "joined_df2.take(1), statusDF.take(1)"
   ]
  },
  {
   "cell_type": "code",
   "execution_count": 41,
   "metadata": {
    "collapsed": false
   },
   "outputs": [],
   "source": [
    "statusDF.write.saveAsTable('statusDF')"
   ]
  },
  {
   "cell_type": "code",
   "execution_count": 56,
   "metadata": {
    "collapsed": false
   },
   "outputs": [
    {
     "name": "stdout",
     "output_type": "stream",
     "text": [
      "+--------+\n",
      "|count(1)|\n",
      "+--------+\n",
      "|54989832|\n",
      "+--------+\n",
      "\n"
     ]
    }
   ],
   "source": [
    "sqlContext.sql(\"select count(*) from statusDF where year is null\").show()"
   ]
  },
  {
   "cell_type": "code",
   "execution_count": null,
   "metadata": {
    "collapsed": true
   },
   "outputs": [],
   "source": [
    "statusDF_avg = statusDF.groupBy('station_id', 'weekend', 'weekday', 'hourofday', 'month', 'year')\\\n",
    ".agg(avg('bikes_available').alias('avg_bikes_available'), avg('docks_available').alias('avg_docks_available'))"
   ]
  },
  {
   "cell_type": "code",
   "execution_count": 124,
   "metadata": {
    "collapsed": false
   },
   "outputs": [],
   "source": [
    "joined_df3 = joined_df2.join(statusDF, (joined_df2.id == statusDF.station_id) \\\n",
    "                             & (joined_df2.hourofday == statusDF.hourofday) \\\n",
    "                            & (joined_df2.weekend == statusDF.weekend)\\\n",
    "                            & (joined_df2.weekday == statusDF.weekday)\\\n",
    "                            & (joined_df2.month == statusDF.month)\\\n",
    "                            & (joined_df2.year == statusDF.year))"
   ]
  },
  {
   "cell_type": "code",
   "execution_count": null,
   "metadata": {
    "collapsed": true
   },
   "outputs": [],
   "source": [
    "joined_df3.take(1)"
   ]
  }
 ],
 "metadata": {
  "anaconda-cloud": {},
  "kernelspec": {
   "display_name": "Python [Root]",
   "language": "python",
   "name": "Python [Root]"
  },
  "language_info": {
   "codemirror_mode": {
    "name": "ipython",
    "version": 3
   },
   "file_extension": ".py",
   "mimetype": "text/x-python",
   "name": "python",
   "nbconvert_exporter": "python",
   "pygments_lexer": "ipython3",
   "version": "3.5.2"
  }
 },
 "nbformat": 4,
 "nbformat_minor": 2
}

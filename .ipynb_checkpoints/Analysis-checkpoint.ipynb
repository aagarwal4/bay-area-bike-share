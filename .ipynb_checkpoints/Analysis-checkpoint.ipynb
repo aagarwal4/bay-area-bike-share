{
 "cells": [
  {
   "cell_type": "code",
   "execution_count": 55,
   "metadata": {
    "collapsed": true
   },
   "outputs": [],
   "source": [
    "from pyspark.sql.functions import *\n",
    "from pyspark.sql.types import DateType"
   ]
  },
  {
   "cell_type": "markdown",
   "metadata": {},
   "source": [
    "### Importing DataFrame objects from MongoDB "
   ]
  },
  {
   "cell_type": "code",
   "execution_count": 76,
   "metadata": {
    "collapsed": true
   },
   "outputs": [],
   "source": [
    "statusDF = spark.read.format(\"com.mongodb.spark.sql.DefaultSource\").option(\"uri\", \"mongodb://127.0.0.1/msan697.status\").load()\n",
    "\n",
    "stationDF = spark.read.format(\"com.mongodb.spark.sql.DefaultSource\").option(\"uri\", \"mongodb://127.0.0.1/msan697.station\").load()\n",
    "\n",
    "weatherDF = spark.read.format(\"com.mongodb.spark.sql.DefaultSource\").option(\"uri\", \"mongodb://127.0.0.1/msan697.weather\").load()\n",
    "\n",
    "tripDF = spark.read.format(\"com.mongodb.spark.sql.DefaultSource\").option(\"uri\", \"mongodb://127.0.0.1/msan697.trip\").load()"
   ]
  },
  {
   "cell_type": "code",
   "execution_count": 23,
   "metadata": {},
   "outputs": [
    {
     "name": "stdout",
     "output_type": "stream",
     "text": [
      "+--------------------+---------------+---------------+----------+-------------------+\n",
      "|                 _id|bikes_available|docks_available|station_id|               time|\n",
      "+--------------------+---------------+---------------+----------+-------------------+\n",
      "|[5a5d49a291bd3626...|              2|             25|         2|2013/08/29 12:06:01|\n",
      "|[5a5d49a291bd3626...|              2|             25|         2|2013/08/29 12:07:01|\n",
      "|[5a5d49a291bd3626...|              2|             25|         2|2013/08/29 12:08:01|\n",
      "|[5a5d49a291bd3626...|              2|             25|         2|2013/08/29 12:09:01|\n",
      "|[5a5d49a291bd3626...|              2|             25|         2|2013/08/29 12:10:01|\n",
      "+--------------------+---------------+---------------+----------+-------------------+\n",
      "only showing top 5 rows\n",
      "\n"
     ]
    }
   ],
   "source": [
    "statusDF.show(n=5)"
   ]
  },
  {
   "cell_type": "code",
   "execution_count": 22,
   "metadata": {},
   "outputs": [
    {
     "name": "stdout",
     "output_type": "stream",
     "text": [
      "+--------------------+--------+----------+---+-----------------+------------------+-------------------+--------------------+\n",
      "|                 _id|    city|dock_count| id|installation_date|               lat|               long|                name|\n",
      "+--------------------+--------+----------+---+-----------------+------------------+-------------------+--------------------+\n",
      "|[5a5d498991bd3626...|San Jose|        19|  5|         8/5/2013|         37.331415|          -121.8932|    Adobe on Almaden|\n",
      "|[5a5d498991bd3626...|San Jose|        15|  6|         8/7/2013|37.336721000000004|        -121.894074|    San Pedro Square|\n",
      "|[5a5d498991bd3626...|San Jose|        15|  7|         8/7/2013|         37.333798|-121.88694299999999|Paseo de San Antonio|\n",
      "|[5a5d498991bd3626...|San Jose|        15|  8|         8/5/2013|         37.330165|-121.88583100000001| San Salvador at 1st|\n",
      "|[5a5d498991bd3626...|San Jose|        15|  9|         8/5/2013|         37.348742|-121.89471499999999|           Japantown|\n",
      "+--------------------+--------+----------+---+-----------------+------------------+-------------------+--------------------+\n",
      "only showing top 5 rows\n",
      "\n"
     ]
    }
   ],
   "source": [
    "stationDF.show(n=5)"
   ]
  },
  {
   "cell_type": "code",
   "execution_count": 9,
   "metadata": {},
   "outputs": [
    {
     "name": "stdout",
     "output_type": "stream",
     "text": [
      "+--------------------+-----------+---------+------+---------------+------------------+------------+-----------------------------+-----------------+--------------------+------------------+----------------+-------------+------------------------------+------------------+---------------------+-------------------+---------------+------------+-----------------------------+-----------------+--------------------+--------------------+----------------+--------+\n",
      "|                 _id|cloud_cover|     date|events|max_dew_point_f|max_gust_speed_mph|max_humidity|max_sea_level_pressure_inches|max_temperature_f|max_visibility_miles|max_wind_Speed_mph|mean_dew_point_f|mean_humidity|mean_sea_level_pressure_inches|mean_temperature_f|mean_visibility_miles|mean_wind_speed_mph|min_dew_point_f|min_humidity|min_sea_level_pressure_inches|min_temperature_f|min_visibility_miles|precipitation_inches|wind_dir_degrees|zip_code|\n",
      "+--------------------+-----------+---------+------+---------------+------------------+------------+-----------------------------+-----------------+--------------------+------------------+----------------+-------------+------------------------------+------------------+---------------------+-------------------+---------------+------------+-----------------------------+-----------------+--------------------+--------------------+----------------+--------+\n",
      "|[5a5d4ebd91bd3626...|        4.0|8/29/2013|      |           61.0|              28.0|        93.0|                        30.07|             74.0|                10.0|              23.0|            58.0|         75.0|                         30.02|              68.0|                 10.0|               11.0|           56.0|        57.0|                        29.97|             61.0|                10.0|                   0|           286.0|   94107|\n",
      "|[5a5d4ebd91bd3626...|        6.0| 9/2/2013|      |           61.0|              30.0|        93.0|                        29.97|             75.0|                10.0|              23.0|            60.0|         77.0|                         29.94|              69.0|                 10.0|               12.0|           58.0|        61.0|                         29.9|             62.0|                 6.0|                   0|           277.0|   94107|\n",
      "+--------------------+-----------+---------+------+---------------+------------------+------------+-----------------------------+-----------------+--------------------+------------------+----------------+-------------+------------------------------+------------------+---------------------+-------------------+---------------+------------+-----------------------------+-----------------+--------------------+--------------------+----------------+--------+\n",
      "only showing top 2 rows\n",
      "\n"
     ]
    }
   ],
   "source": [
    "weatherDF.show(n=2)"
   ]
  },
  {
   "cell_type": "code",
   "execution_count": 11,
   "metadata": {},
   "outputs": [
    {
     "name": "stdout",
     "output_type": "stream",
     "text": [
      "+--------------------+-------+--------+---------------+--------------+--------------------+----+---------------+----------------+--------------------+-----------------+--------+\n",
      "|                 _id|bike_id|duration|       end_date|end_station_id|    end_station_name|  id|     start_date|start_station_id|  start_station_name|subscription_type|zip_code|\n",
      "+--------------------+-------+--------+---------------+--------------+--------------------+----+---------------+----------------+--------------------+-----------------+--------+\n",
      "|[5a5d4ec891bd3626...|    520|      63|8/29/2013 14:14|            66|South Van Ness at...|4576|8/29/2013 14:13|              66|South Van Ness at...|       Subscriber|   94127|\n",
      "|[5a5d4ec891bd3626...|    661|      70|8/29/2013 14:43|            10|  San Jose City Hall|4607|8/29/2013 14:42|              10|  San Jose City Hall|       Subscriber|   95138|\n",
      "|[5a5d4ec891bd3626...|     48|      71|8/29/2013 10:17|            27|Mountain View Cit...|4130|8/29/2013 10:16|              27|Mountain View Cit...|       Subscriber|   97214|\n",
      "|[5a5d4ec891bd3626...|     26|      77|8/29/2013 11:30|            10|  San Jose City Hall|4251|8/29/2013 11:29|              10|  San Jose City Hall|       Subscriber|   95060|\n",
      "|[5a5d4ec891bd3626...|    319|      83|8/29/2013 12:04|            67|      Market at 10th|4299|8/29/2013 12:02|              66|South Van Ness at...|       Subscriber|   94103|\n",
      "+--------------------+-------+--------+---------------+--------------+--------------------+----+---------------+----------------+--------------------+-----------------+--------+\n",
      "only showing top 5 rows\n",
      "\n"
     ]
    }
   ],
   "source": [
    "tripDF.show(n=5)"
   ]
  },
  {
   "cell_type": "code",
   "execution_count": 184,
   "metadata": {},
   "outputs": [
    {
     "data": {
      "text/plain": [
       "['_id',\n",
       " 'bikes_available',\n",
       " 'docks_available',\n",
       " 'station_id',\n",
       " 'time',\n",
       " 'dayofweek',\n",
       " 'weekend',\n",
       " 'weekday',\n",
       " 'hourofday',\n",
       " 'morning',\n",
       " 'afternoon',\n",
       " 'evening',\n",
       " 'night',\n",
       " 'month']"
      ]
     },
     "execution_count": 184,
     "metadata": {},
     "output_type": "execute_result"
    }
   ],
   "source": [
    "statusDF.columns"
   ]
  },
  {
   "cell_type": "code",
   "execution_count": 183,
   "metadata": {},
   "outputs": [
    {
     "data": {
      "text/plain": [
       "['_id',\n",
       " 'bike_id',\n",
       " 'duration',\n",
       " 'end_date',\n",
       " 'end_station_id',\n",
       " 'end_station_name',\n",
       " 'id',\n",
       " 'start_date',\n",
       " 'start_station_id',\n",
       " 'start_station_name',\n",
       " 'subscription_type',\n",
       " 'zip_code']"
      ]
     },
     "execution_count": 183,
     "metadata": {},
     "output_type": "execute_result"
    }
   ],
   "source": [
    "tripDF.columns"
   ]
  },
  {
   "cell_type": "markdown",
   "metadata": {},
   "source": [
    "### Adding features "
   ]
  },
  {
   "cell_type": "markdown",
   "metadata": {},
   "source": [
    "#### Weekday/Weekend "
   ]
  },
  {
   "cell_type": "code",
   "execution_count": 110,
   "metadata": {},
   "outputs": [],
   "source": [
    "#Adding day of week column\n",
    "statusDF = statusDF.withColumn('dayofweek',date_format(from_unixtime(unix_timestamp(statusDF[\"time\"][0:10], 'yyyy/MM/dd')),'EEEE'))"
   ]
  },
  {
   "cell_type": "code",
   "execution_count": 179,
   "metadata": {},
   "outputs": [
    {
     "name": "stdout",
     "output_type": "stream",
     "text": [
      "+-------------------+---------+\n",
      "|               time|dayofweek|\n",
      "+-------------------+---------+\n",
      "|2013/08/29 12:06:01| Thursday|\n",
      "|2013/08/29 12:07:01| Thursday|\n",
      "|2013/08/29 12:08:01| Thursday|\n",
      "|2013/08/29 12:09:01| Thursday|\n",
      "|2013/08/29 12:10:01| Thursday|\n",
      "+-------------------+---------+\n",
      "only showing top 5 rows\n",
      "\n"
     ]
    }
   ],
   "source": [
    "statusDF.select('time','dayofweek').show(n=5)"
   ]
  },
  {
   "cell_type": "code",
   "execution_count": 101,
   "metadata": {
    "collapsed": true
   },
   "outputs": [],
   "source": [
    "#Adding weekend column\n",
    "statusDF = statusDF.withColumn(\"weekend\", when(col('dayofweek') == 'Saturday',1).when(col('dayofweek') == 'Sunday', 1).otherwise(0))\n",
    "#Adding weekday column\n",
    "statusDF = statusDF.withColumn(\"weekday\", when(col('dayofweek') == 'Saturday',0).when(col('dayofweek') == 'Sunday', 0).otherwise(1))"
   ]
  },
  {
   "cell_type": "code",
   "execution_count": 178,
   "metadata": {},
   "outputs": [
    {
     "name": "stdout",
     "output_type": "stream",
     "text": [
      "+-------------------+---------+-------+-------+\n",
      "|               time|dayofweek|weekend|weekday|\n",
      "+-------------------+---------+-------+-------+\n",
      "|2013/09/01 00:00:02|   Sunday|      1|      0|\n",
      "+-------------------+---------+-------+-------+\n",
      "only showing top 1 row\n",
      "\n"
     ]
    }
   ],
   "source": [
    "#Checking output\n",
    "statusDF.select('time','dayofweek','weekend','weekday').where(statusDF.dayofweek == \"Sunday\").show(n=1)"
   ]
  },
  {
   "cell_type": "markdown",
   "metadata": {
    "collapsed": true
   },
   "source": [
    "#### Hour of Day/Morning/Afternoon/Evening/Night "
   ]
  },
  {
   "cell_type": "code",
   "execution_count": 155,
   "metadata": {},
   "outputs": [],
   "source": [
    "#Adding hourofday column\n",
    "statusDF = statusDF.withColumn('hourofday',statusDF[\"time\"][12:2])"
   ]
  },
  {
   "cell_type": "markdown",
   "metadata": {
    "collapsed": true
   },
   "source": [
    "We define morning as the time between 5am and 12pm, afternoon between 12pm and 5pm, evening between 5pm and 11pm and night between 11pm and 5am."
   ]
  },
  {
   "cell_type": "code",
   "execution_count": 172,
   "metadata": {
    "collapsed": true
   },
   "outputs": [],
   "source": [
    "#Adding morning column\n",
    "statusDF = statusDF.withColumn(\"morning\", when(col('hourofday').between(5,11),1).otherwise(0))\n",
    "#Adding afternoon column\n",
    "statusDF = statusDF.withColumn(\"afternoon\", when(col('hourofday').between(12,16),1).otherwise(0))\n",
    "#Adding evening column\n",
    "statusDF = statusDF.withColumn(\"evening\", when(col('hourofday').between(17,22),1).otherwise(0))\n",
    "#Adding night column\n",
    "statusDF = statusDF.withColumn(\"night\", when(col('hourofday').between(23,24), 1).when(col('hourofday').between(0,4),1).otherwise(0))"
   ]
  },
  {
   "cell_type": "code",
   "execution_count": 177,
   "metadata": {},
   "outputs": [
    {
     "name": "stdout",
     "output_type": "stream",
     "text": [
      "+-------------------+---------+-------+---------+-------+-----+\n",
      "|               time|hourofday|morning|afternoon|evening|night|\n",
      "+-------------------+---------+-------+---------+-------+-----+\n",
      "|2013/08/29 12:06:01|       12|      0|        1|      0|    0|\n",
      "|2013/08/29 12:07:01|       12|      0|        1|      0|    0|\n",
      "|2013/08/29 12:08:01|       12|      0|        1|      0|    0|\n",
      "|2013/08/29 12:09:01|       12|      0|        1|      0|    0|\n",
      "|2013/08/29 12:10:01|       12|      0|        1|      0|    0|\n",
      "+-------------------+---------+-------+---------+-------+-----+\n",
      "only showing top 5 rows\n",
      "\n"
     ]
    }
   ],
   "source": [
    "statusDF.select('time','hourofday','morning','afternoon','evening','night').show(n=5)"
   ]
  },
  {
   "cell_type": "markdown",
   "metadata": {
    "collapsed": true
   },
   "source": [
    "#### Month"
   ]
  },
  {
   "cell_type": "code",
   "execution_count": 176,
   "metadata": {},
   "outputs": [],
   "source": [
    "#Adding month column\n",
    "statusDF = statusDF.withColumn('month',month(from_unixtime(unix_timestamp(statusDF[\"time\"][0:10], 'yyyy/MM/dd'))))"
   ]
  },
  {
   "cell_type": "code",
   "execution_count": 186,
   "metadata": {},
   "outputs": [
    {
     "name": "stdout",
     "output_type": "stream",
     "text": [
      "+-------------------+-----+\n",
      "|               time|month|\n",
      "+-------------------+-----+\n",
      "|2013/08/29 12:06:01|    8|\n",
      "|2013/08/29 12:07:01|    8|\n",
      "|2013/08/29 12:08:01|    8|\n",
      "|2013/08/29 12:09:01|    8|\n",
      "|2013/08/29 12:10:01|    8|\n",
      "+-------------------+-----+\n",
      "only showing top 5 rows\n",
      "\n"
     ]
    }
   ],
   "source": [
    "statusDF.select('time','month').show(n=5)"
   ]
  },
  {
   "cell_type": "code",
   "execution_count": 188,
   "metadata": {},
   "outputs": [
    {
     "name": "stdout",
     "output_type": "stream",
     "text": [
      "+----------+-------+-------+-------+---------+-------+-----+---------+-----+\n",
      "|station_id|weekend|weekday|morning|afternoon|evening|night|hourofday|month|\n",
      "+----------+-------+-------+-------+---------+-------+-----+---------+-----+\n",
      "|         2|      0|      1|      0|        1|      0|    0|       12|    8|\n",
      "|         2|      0|      1|      0|        1|      0|    0|       12|    8|\n",
      "|         2|      0|      1|      0|        1|      0|    0|       12|    8|\n",
      "|         2|      0|      1|      0|        1|      0|    0|       12|    8|\n",
      "|         2|      0|      1|      0|        1|      0|    0|       12|    8|\n",
      "|         2|      0|      1|      0|        1|      0|    0|       12|    8|\n",
      "|         2|      0|      1|      0|        1|      0|    0|       12|    8|\n",
      "|         2|      0|      1|      0|        1|      0|    0|       12|    8|\n",
      "|         2|      0|      1|      0|        1|      0|    0|       12|    8|\n",
      "|         2|      0|      1|      0|        1|      0|    0|       12|    8|\n",
      "+----------+-------+-------+-------+---------+-------+-----+---------+-----+\n",
      "only showing top 10 rows\n",
      "\n"
     ]
    }
   ],
   "source": [
    "#Features so far\n",
    "statusDF.select('station_id', 'weekend', 'weekday', 'morning', 'afternoon', 'evening', 'night', 'hourofday', 'month').show(n=10)"
   ]
  }
 ],
 "metadata": {
  "anaconda-cloud": {},
  "kernelspec": {
   "display_name": "Python 2",
   "language": "python",
   "name": "python2"
  },
  "language_info": {
   "codemirror_mode": {
    "name": "ipython",
    "version": 2
   },
   "file_extension": ".py",
   "mimetype": "text/x-python",
   "name": "python",
   "nbconvert_exporter": "python",
   "pygments_lexer": "ipython2",
   "version": "2.7.13"
  }
 },
 "nbformat": 4,
 "nbformat_minor": 2
}

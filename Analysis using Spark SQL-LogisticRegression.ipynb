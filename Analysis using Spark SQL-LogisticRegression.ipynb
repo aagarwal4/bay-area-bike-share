{
 "cells": [
  {
   "cell_type": "code",
   "execution_count": 1,
   "metadata": {
    "collapsed": true
   },
   "outputs": [],
   "source": [
    "import pandas as pd\n",
    "import numpy as np\n",
    "import csv"
   ]
  },
  {
   "cell_type": "code",
   "execution_count": 12,
   "metadata": {
    "collapsed": true
   },
   "outputs": [],
   "source": [
    "stations = pd.read_csv(\"../Data/station.csv\")\n",
    "status = pd.read_csv(\"../Data/status.csv\")\n",
    "trip = pd.read_csv(\"../Data/trip.csv\")\n",
    "weather = pd.read_csv(\"../Data/weather.csv\")"
   ]
  },
  {
   "cell_type": "markdown",
   "metadata": {},
   "source": [
    "## How does the data look like?"
   ]
  },
  {
   "cell_type": "code",
   "execution_count": 13,
   "metadata": {},
   "outputs": [
    {
     "data": {
      "text/html": [
       "<div>\n",
       "<style>\n",
       "    .dataframe thead tr:only-child th {\n",
       "        text-align: right;\n",
       "    }\n",
       "\n",
       "    .dataframe thead th {\n",
       "        text-align: left;\n",
       "    }\n",
       "\n",
       "    .dataframe tbody tr th {\n",
       "        vertical-align: top;\n",
       "    }\n",
       "</style>\n",
       "<table border=\"1\" class=\"dataframe\">\n",
       "  <thead>\n",
       "    <tr style=\"text-align: right;\">\n",
       "      <th></th>\n",
       "      <th>id</th>\n",
       "      <th>name</th>\n",
       "      <th>lat</th>\n",
       "      <th>long</th>\n",
       "      <th>dock_count</th>\n",
       "      <th>city</th>\n",
       "      <th>installation_date</th>\n",
       "    </tr>\n",
       "  </thead>\n",
       "  <tbody>\n",
       "    <tr>\n",
       "      <th>0</th>\n",
       "      <td>2</td>\n",
       "      <td>San Jose Diridon Caltrain Station</td>\n",
       "      <td>37.329732</td>\n",
       "      <td>-121.901782</td>\n",
       "      <td>27</td>\n",
       "      <td>San Jose</td>\n",
       "      <td>8/6/2013</td>\n",
       "    </tr>\n",
       "    <tr>\n",
       "      <th>1</th>\n",
       "      <td>3</td>\n",
       "      <td>San Jose Civic Center</td>\n",
       "      <td>37.330698</td>\n",
       "      <td>-121.888979</td>\n",
       "      <td>15</td>\n",
       "      <td>San Jose</td>\n",
       "      <td>8/5/2013</td>\n",
       "    </tr>\n",
       "    <tr>\n",
       "      <th>2</th>\n",
       "      <td>4</td>\n",
       "      <td>Santa Clara at Almaden</td>\n",
       "      <td>37.333988</td>\n",
       "      <td>-121.894902</td>\n",
       "      <td>11</td>\n",
       "      <td>San Jose</td>\n",
       "      <td>8/6/2013</td>\n",
       "    </tr>\n",
       "    <tr>\n",
       "      <th>3</th>\n",
       "      <td>5</td>\n",
       "      <td>Adobe on Almaden</td>\n",
       "      <td>37.331415</td>\n",
       "      <td>-121.893200</td>\n",
       "      <td>19</td>\n",
       "      <td>San Jose</td>\n",
       "      <td>8/5/2013</td>\n",
       "    </tr>\n",
       "    <tr>\n",
       "      <th>4</th>\n",
       "      <td>6</td>\n",
       "      <td>San Pedro Square</td>\n",
       "      <td>37.336721</td>\n",
       "      <td>-121.894074</td>\n",
       "      <td>15</td>\n",
       "      <td>San Jose</td>\n",
       "      <td>8/7/2013</td>\n",
       "    </tr>\n",
       "  </tbody>\n",
       "</table>\n",
       "</div>"
      ],
      "text/plain": [
       "   id                               name        lat        long  dock_count  \\\n",
       "0   2  San Jose Diridon Caltrain Station  37.329732 -121.901782          27   \n",
       "1   3              San Jose Civic Center  37.330698 -121.888979          15   \n",
       "2   4             Santa Clara at Almaden  37.333988 -121.894902          11   \n",
       "3   5                   Adobe on Almaden  37.331415 -121.893200          19   \n",
       "4   6                   San Pedro Square  37.336721 -121.894074          15   \n",
       "\n",
       "       city installation_date  \n",
       "0  San Jose          8/6/2013  \n",
       "1  San Jose          8/5/2013  \n",
       "2  San Jose          8/6/2013  \n",
       "3  San Jose          8/5/2013  \n",
       "4  San Jose          8/7/2013  "
      ]
     },
     "execution_count": 13,
     "metadata": {},
     "output_type": "execute_result"
    }
   ],
   "source": [
    "stations.head(5)"
   ]
  },
  {
   "cell_type": "markdown",
   "metadata": {},
   "source": [
    "Stations table has 7 fields with station information - location (lat, long, city), dock count and installation date are the main columns."
   ]
  },
  {
   "cell_type": "code",
   "execution_count": 14,
   "metadata": {},
   "outputs": [
    {
     "data": {
      "text/html": [
       "<div>\n",
       "<style>\n",
       "    .dataframe thead tr:only-child th {\n",
       "        text-align: right;\n",
       "    }\n",
       "\n",
       "    .dataframe thead th {\n",
       "        text-align: left;\n",
       "    }\n",
       "\n",
       "    .dataframe tbody tr th {\n",
       "        vertical-align: top;\n",
       "    }\n",
       "</style>\n",
       "<table border=\"1\" class=\"dataframe\">\n",
       "  <thead>\n",
       "    <tr style=\"text-align: right;\">\n",
       "      <th></th>\n",
       "      <th>station_id</th>\n",
       "      <th>bikes_available</th>\n",
       "      <th>docks_available</th>\n",
       "      <th>time</th>\n",
       "    </tr>\n",
       "  </thead>\n",
       "  <tbody>\n",
       "    <tr>\n",
       "      <th>0</th>\n",
       "      <td>2</td>\n",
       "      <td>2</td>\n",
       "      <td>25</td>\n",
       "      <td>2013/08/29 12:06:01</td>\n",
       "    </tr>\n",
       "    <tr>\n",
       "      <th>1</th>\n",
       "      <td>2</td>\n",
       "      <td>2</td>\n",
       "      <td>25</td>\n",
       "      <td>2013/08/29 12:07:01</td>\n",
       "    </tr>\n",
       "    <tr>\n",
       "      <th>2</th>\n",
       "      <td>2</td>\n",
       "      <td>2</td>\n",
       "      <td>25</td>\n",
       "      <td>2013/08/29 12:08:01</td>\n",
       "    </tr>\n",
       "    <tr>\n",
       "      <th>3</th>\n",
       "      <td>2</td>\n",
       "      <td>2</td>\n",
       "      <td>25</td>\n",
       "      <td>2013/08/29 12:09:01</td>\n",
       "    </tr>\n",
       "    <tr>\n",
       "      <th>4</th>\n",
       "      <td>2</td>\n",
       "      <td>2</td>\n",
       "      <td>25</td>\n",
       "      <td>2013/08/29 12:10:01</td>\n",
       "    </tr>\n",
       "  </tbody>\n",
       "</table>\n",
       "</div>"
      ],
      "text/plain": [
       "   station_id  bikes_available  docks_available                 time\n",
       "0           2                2               25  2013/08/29 12:06:01\n",
       "1           2                2               25  2013/08/29 12:07:01\n",
       "2           2                2               25  2013/08/29 12:08:01\n",
       "3           2                2               25  2013/08/29 12:09:01\n",
       "4           2                2               25  2013/08/29 12:10:01"
      ]
     },
     "execution_count": 14,
     "metadata": {},
     "output_type": "execute_result"
    }
   ],
   "source": [
    "status.head(5)"
   ]
  },
  {
   "cell_type": "markdown",
   "metadata": {},
   "source": [
    "Status table has 4 columns with info of number of bikes available at a station for a given time. Further, looks like it is updated every minute."
   ]
  },
  {
   "cell_type": "code",
   "execution_count": 15,
   "metadata": {},
   "outputs": [
    {
     "data": {
      "text/html": [
       "<div>\n",
       "<style>\n",
       "    .dataframe thead tr:only-child th {\n",
       "        text-align: right;\n",
       "    }\n",
       "\n",
       "    .dataframe thead th {\n",
       "        text-align: left;\n",
       "    }\n",
       "\n",
       "    .dataframe tbody tr th {\n",
       "        vertical-align: top;\n",
       "    }\n",
       "</style>\n",
       "<table border=\"1\" class=\"dataframe\">\n",
       "  <thead>\n",
       "    <tr style=\"text-align: right;\">\n",
       "      <th></th>\n",
       "      <th>id</th>\n",
       "      <th>duration</th>\n",
       "      <th>start_date</th>\n",
       "      <th>start_station_name</th>\n",
       "      <th>start_station_id</th>\n",
       "      <th>end_date</th>\n",
       "      <th>end_station_name</th>\n",
       "      <th>end_station_id</th>\n",
       "      <th>bike_id</th>\n",
       "      <th>subscription_type</th>\n",
       "      <th>zip_code</th>\n",
       "    </tr>\n",
       "  </thead>\n",
       "  <tbody>\n",
       "    <tr>\n",
       "      <th>0</th>\n",
       "      <td>4576</td>\n",
       "      <td>63</td>\n",
       "      <td>8/29/2013 14:13</td>\n",
       "      <td>South Van Ness at Market</td>\n",
       "      <td>66</td>\n",
       "      <td>8/29/2013 14:14</td>\n",
       "      <td>South Van Ness at Market</td>\n",
       "      <td>66</td>\n",
       "      <td>520</td>\n",
       "      <td>Subscriber</td>\n",
       "      <td>94127</td>\n",
       "    </tr>\n",
       "    <tr>\n",
       "      <th>1</th>\n",
       "      <td>4607</td>\n",
       "      <td>70</td>\n",
       "      <td>8/29/2013 14:42</td>\n",
       "      <td>San Jose City Hall</td>\n",
       "      <td>10</td>\n",
       "      <td>8/29/2013 14:43</td>\n",
       "      <td>San Jose City Hall</td>\n",
       "      <td>10</td>\n",
       "      <td>661</td>\n",
       "      <td>Subscriber</td>\n",
       "      <td>95138</td>\n",
       "    </tr>\n",
       "    <tr>\n",
       "      <th>2</th>\n",
       "      <td>4130</td>\n",
       "      <td>71</td>\n",
       "      <td>8/29/2013 10:16</td>\n",
       "      <td>Mountain View City Hall</td>\n",
       "      <td>27</td>\n",
       "      <td>8/29/2013 10:17</td>\n",
       "      <td>Mountain View City Hall</td>\n",
       "      <td>27</td>\n",
       "      <td>48</td>\n",
       "      <td>Subscriber</td>\n",
       "      <td>97214</td>\n",
       "    </tr>\n",
       "    <tr>\n",
       "      <th>3</th>\n",
       "      <td>4251</td>\n",
       "      <td>77</td>\n",
       "      <td>8/29/2013 11:29</td>\n",
       "      <td>San Jose City Hall</td>\n",
       "      <td>10</td>\n",
       "      <td>8/29/2013 11:30</td>\n",
       "      <td>San Jose City Hall</td>\n",
       "      <td>10</td>\n",
       "      <td>26</td>\n",
       "      <td>Subscriber</td>\n",
       "      <td>95060</td>\n",
       "    </tr>\n",
       "    <tr>\n",
       "      <th>4</th>\n",
       "      <td>4299</td>\n",
       "      <td>83</td>\n",
       "      <td>8/29/2013 12:02</td>\n",
       "      <td>South Van Ness at Market</td>\n",
       "      <td>66</td>\n",
       "      <td>8/29/2013 12:04</td>\n",
       "      <td>Market at 10th</td>\n",
       "      <td>67</td>\n",
       "      <td>319</td>\n",
       "      <td>Subscriber</td>\n",
       "      <td>94103</td>\n",
       "    </tr>\n",
       "  </tbody>\n",
       "</table>\n",
       "</div>"
      ],
      "text/plain": [
       "     id  duration       start_date        start_station_name  \\\n",
       "0  4576        63  8/29/2013 14:13  South Van Ness at Market   \n",
       "1  4607        70  8/29/2013 14:42        San Jose City Hall   \n",
       "2  4130        71  8/29/2013 10:16   Mountain View City Hall   \n",
       "3  4251        77  8/29/2013 11:29        San Jose City Hall   \n",
       "4  4299        83  8/29/2013 12:02  South Van Ness at Market   \n",
       "\n",
       "   start_station_id         end_date          end_station_name  \\\n",
       "0                66  8/29/2013 14:14  South Van Ness at Market   \n",
       "1                10  8/29/2013 14:43        San Jose City Hall   \n",
       "2                27  8/29/2013 10:17   Mountain View City Hall   \n",
       "3                10  8/29/2013 11:30        San Jose City Hall   \n",
       "4                66  8/29/2013 12:04            Market at 10th   \n",
       "\n",
       "   end_station_id  bike_id subscription_type zip_code  \n",
       "0              66      520        Subscriber    94127  \n",
       "1              10      661        Subscriber    95138  \n",
       "2              27       48        Subscriber    97214  \n",
       "3              10       26        Subscriber    95060  \n",
       "4              67      319        Subscriber    94103  "
      ]
     },
     "execution_count": 15,
     "metadata": {},
     "output_type": "execute_result"
    }
   ],
   "source": [
    "trip.head(5)"
   ]
  },
  {
   "cell_type": "markdown",
   "metadata": {},
   "source": [
    "Trip table has 11 fields with trip info - start and stop info, what time and which station, subscriber type, bike id."
   ]
  },
  {
   "cell_type": "code",
   "execution_count": 17,
   "metadata": {},
   "outputs": [
    {
     "data": {
      "text/html": [
       "<div>\n",
       "<style>\n",
       "    .dataframe thead tr:only-child th {\n",
       "        text-align: right;\n",
       "    }\n",
       "\n",
       "    .dataframe thead th {\n",
       "        text-align: left;\n",
       "    }\n",
       "\n",
       "    .dataframe tbody tr th {\n",
       "        vertical-align: top;\n",
       "    }\n",
       "</style>\n",
       "<table border=\"1\" class=\"dataframe\">\n",
       "  <thead>\n",
       "    <tr style=\"text-align: right;\">\n",
       "      <th></th>\n",
       "      <th>date</th>\n",
       "      <th>max_temperature_f</th>\n",
       "      <th>mean_temperature_f</th>\n",
       "      <th>min_temperature_f</th>\n",
       "      <th>max_dew_point_f</th>\n",
       "      <th>mean_dew_point_f</th>\n",
       "      <th>min_dew_point_f</th>\n",
       "      <th>max_humidity</th>\n",
       "      <th>mean_humidity</th>\n",
       "      <th>min_humidity</th>\n",
       "      <th>...</th>\n",
       "      <th>mean_visibility_miles</th>\n",
       "      <th>min_visibility_miles</th>\n",
       "      <th>max_wind_Speed_mph</th>\n",
       "      <th>mean_wind_speed_mph</th>\n",
       "      <th>max_gust_speed_mph</th>\n",
       "      <th>precipitation_inches</th>\n",
       "      <th>cloud_cover</th>\n",
       "      <th>events</th>\n",
       "      <th>wind_dir_degrees</th>\n",
       "      <th>zip_code</th>\n",
       "    </tr>\n",
       "  </thead>\n",
       "  <tbody>\n",
       "    <tr>\n",
       "      <th>0</th>\n",
       "      <td>8/29/2013</td>\n",
       "      <td>74.0</td>\n",
       "      <td>68.0</td>\n",
       "      <td>61.0</td>\n",
       "      <td>61.0</td>\n",
       "      <td>58.0</td>\n",
       "      <td>56.0</td>\n",
       "      <td>93.0</td>\n",
       "      <td>75.0</td>\n",
       "      <td>57.0</td>\n",
       "      <td>...</td>\n",
       "      <td>10.0</td>\n",
       "      <td>10.0</td>\n",
       "      <td>23.0</td>\n",
       "      <td>11.0</td>\n",
       "      <td>28.0</td>\n",
       "      <td>0</td>\n",
       "      <td>4.0</td>\n",
       "      <td>NaN</td>\n",
       "      <td>286.0</td>\n",
       "      <td>94107</td>\n",
       "    </tr>\n",
       "    <tr>\n",
       "      <th>1</th>\n",
       "      <td>8/30/2013</td>\n",
       "      <td>78.0</td>\n",
       "      <td>69.0</td>\n",
       "      <td>60.0</td>\n",
       "      <td>61.0</td>\n",
       "      <td>58.0</td>\n",
       "      <td>56.0</td>\n",
       "      <td>90.0</td>\n",
       "      <td>70.0</td>\n",
       "      <td>50.0</td>\n",
       "      <td>...</td>\n",
       "      <td>10.0</td>\n",
       "      <td>7.0</td>\n",
       "      <td>29.0</td>\n",
       "      <td>13.0</td>\n",
       "      <td>35.0</td>\n",
       "      <td>0</td>\n",
       "      <td>2.0</td>\n",
       "      <td>NaN</td>\n",
       "      <td>291.0</td>\n",
       "      <td>94107</td>\n",
       "    </tr>\n",
       "    <tr>\n",
       "      <th>2</th>\n",
       "      <td>8/31/2013</td>\n",
       "      <td>71.0</td>\n",
       "      <td>64.0</td>\n",
       "      <td>57.0</td>\n",
       "      <td>57.0</td>\n",
       "      <td>56.0</td>\n",
       "      <td>54.0</td>\n",
       "      <td>93.0</td>\n",
       "      <td>75.0</td>\n",
       "      <td>57.0</td>\n",
       "      <td>...</td>\n",
       "      <td>10.0</td>\n",
       "      <td>10.0</td>\n",
       "      <td>26.0</td>\n",
       "      <td>15.0</td>\n",
       "      <td>31.0</td>\n",
       "      <td>0</td>\n",
       "      <td>4.0</td>\n",
       "      <td>NaN</td>\n",
       "      <td>284.0</td>\n",
       "      <td>94107</td>\n",
       "    </tr>\n",
       "    <tr>\n",
       "      <th>3</th>\n",
       "      <td>9/1/2013</td>\n",
       "      <td>74.0</td>\n",
       "      <td>66.0</td>\n",
       "      <td>58.0</td>\n",
       "      <td>60.0</td>\n",
       "      <td>56.0</td>\n",
       "      <td>53.0</td>\n",
       "      <td>87.0</td>\n",
       "      <td>68.0</td>\n",
       "      <td>49.0</td>\n",
       "      <td>...</td>\n",
       "      <td>10.0</td>\n",
       "      <td>10.0</td>\n",
       "      <td>25.0</td>\n",
       "      <td>13.0</td>\n",
       "      <td>29.0</td>\n",
       "      <td>0</td>\n",
       "      <td>4.0</td>\n",
       "      <td>NaN</td>\n",
       "      <td>284.0</td>\n",
       "      <td>94107</td>\n",
       "    </tr>\n",
       "    <tr>\n",
       "      <th>4</th>\n",
       "      <td>9/2/2013</td>\n",
       "      <td>75.0</td>\n",
       "      <td>69.0</td>\n",
       "      <td>62.0</td>\n",
       "      <td>61.0</td>\n",
       "      <td>60.0</td>\n",
       "      <td>58.0</td>\n",
       "      <td>93.0</td>\n",
       "      <td>77.0</td>\n",
       "      <td>61.0</td>\n",
       "      <td>...</td>\n",
       "      <td>10.0</td>\n",
       "      <td>6.0</td>\n",
       "      <td>23.0</td>\n",
       "      <td>12.0</td>\n",
       "      <td>30.0</td>\n",
       "      <td>0</td>\n",
       "      <td>6.0</td>\n",
       "      <td>NaN</td>\n",
       "      <td>277.0</td>\n",
       "      <td>94107</td>\n",
       "    </tr>\n",
       "  </tbody>\n",
       "</table>\n",
       "<p>5 rows × 24 columns</p>\n",
       "</div>"
      ],
      "text/plain": [
       "        date  max_temperature_f  mean_temperature_f  min_temperature_f  \\\n",
       "0  8/29/2013               74.0                68.0               61.0   \n",
       "1  8/30/2013               78.0                69.0               60.0   \n",
       "2  8/31/2013               71.0                64.0               57.0   \n",
       "3   9/1/2013               74.0                66.0               58.0   \n",
       "4   9/2/2013               75.0                69.0               62.0   \n",
       "\n",
       "   max_dew_point_f  mean_dew_point_f  min_dew_point_f  max_humidity  \\\n",
       "0             61.0              58.0             56.0          93.0   \n",
       "1             61.0              58.0             56.0          90.0   \n",
       "2             57.0              56.0             54.0          93.0   \n",
       "3             60.0              56.0             53.0          87.0   \n",
       "4             61.0              60.0             58.0          93.0   \n",
       "\n",
       "   mean_humidity  min_humidity   ...     mean_visibility_miles  \\\n",
       "0           75.0          57.0   ...                      10.0   \n",
       "1           70.0          50.0   ...                      10.0   \n",
       "2           75.0          57.0   ...                      10.0   \n",
       "3           68.0          49.0   ...                      10.0   \n",
       "4           77.0          61.0   ...                      10.0   \n",
       "\n",
       "   min_visibility_miles  max_wind_Speed_mph  mean_wind_speed_mph  \\\n",
       "0                  10.0                23.0                 11.0   \n",
       "1                   7.0                29.0                 13.0   \n",
       "2                  10.0                26.0                 15.0   \n",
       "3                  10.0                25.0                 13.0   \n",
       "4                   6.0                23.0                 12.0   \n",
       "\n",
       "   max_gust_speed_mph  precipitation_inches  cloud_cover  events  \\\n",
       "0                28.0                     0          4.0     NaN   \n",
       "1                35.0                     0          2.0     NaN   \n",
       "2                31.0                     0          4.0     NaN   \n",
       "3                29.0                     0          4.0     NaN   \n",
       "4                30.0                     0          6.0     NaN   \n",
       "\n",
       "   wind_dir_degrees zip_code  \n",
       "0             286.0    94107  \n",
       "1             291.0    94107  \n",
       "2             284.0    94107  \n",
       "3             284.0    94107  \n",
       "4             277.0    94107  \n",
       "\n",
       "[5 rows x 24 columns]"
      ]
     },
     "execution_count": 17,
     "metadata": {},
     "output_type": "execute_result"
    }
   ],
   "source": [
    "weather.head(5)"
   ]
  },
  {
   "cell_type": "markdown",
   "metadata": {},
   "source": [
    "Weather info - min/max temperature, dew point and humidity."
   ]
  },
  {
   "cell_type": "markdown",
   "metadata": {},
   "source": [
    "## Possible analyses:\n",
    "\n",
    "Time series based predictions:\n",
    "- Predict number of trips per station/day. Further can be extended to show demand vs supply at these stations.\n",
    "- Predict travel time for station/day. Is the current pricing strategy which is maximum usage of 30 minutes apt?\n",
    "\n",
    "Clustering:\n",
    "- Cluster stations. What are the primary traits common to stations in one cluster? This gives us factors that stand out - demand? location? number of docks? installation date? travel time?\n",
    "\n",
    "Recommendation based:\n",
    "- Recommend locations where new stations can be installed based on current supply/demand. (Prediction component not necessarily required)\n"
   ]
  },
  {
   "cell_type": "markdown",
   "metadata": {
    "collapsed": true
   },
   "source": [
    "## Using SparkSQL"
   ]
  },
  {
   "cell_type": "code",
   "execution_count": 23,
   "metadata": {
    "collapsed": true
   },
   "outputs": [],
   "source": [
    "from pyspark import SparkContext, SparkConf\n",
    "from pyspark.sql import Row\n",
    "from pyspark.sql import SQLContext\n",
    "from pyspark.sql.types import *\n",
    "from pyspark.sql.functions import *\n",
    "from pyspark.ml.feature import StringIndexer\n",
    "\n",
    "sc = SparkContext.getOrCreate()\n",
    "sqlContext = SQLContext(sc)"
   ]
  },
  {
   "cell_type": "code",
   "execution_count": 24,
   "metadata": {
    "collapsed": true
   },
   "outputs": [],
   "source": [
    "path = \"/Users/deena/Documents/Intersession/ProjectWork/\"\n",
    "station = sqlContext.read.load(path + \"Data/station.csv\", \n",
    "                      format='com.databricks.spark.csv', \n",
    "                      header='true', \n",
    "                      inferSchema='true')\n",
    "\n",
    "status = sqlContext.read.load(path + \"Data/status.csv\", \n",
    "                      format='com.databricks.spark.csv', \n",
    "                      header='true', \n",
    "                      inferSchema='true')\n",
    "\n",
    "trip = sqlContext.read.load(path + \"Data/trip.csv\", \n",
    "                      format='com.databricks.spark.csv', \n",
    "                      header='true',\n",
    "                      inferSchema='true')\n",
    "\n",
    "weather = sqlContext.read.load(path + \"Data/weather.csv\", \n",
    "                      format='com.databricks.spark.csv', \n",
    "                      header='true', \n",
    "                      inferSchema='true')"
   ]
  },
  {
   "cell_type": "code",
   "execution_count": 25,
   "metadata": {},
   "outputs": [
    {
     "data": {
      "text/plain": [
       "DataFrame[]"
      ]
     },
     "execution_count": 25,
     "metadata": {},
     "output_type": "execute_result"
    }
   ],
   "source": [
    "sqlContext.sql(\"\"\"drop table station\"\"\")\n",
    "sqlContext.sql(\"\"\"drop table status\"\"\")\n",
    "sqlContext.sql(\"\"\"drop table trip\"\"\")\n",
    "sqlContext.sql(\"\"\"drop table weather\"\"\")"
   ]
  },
  {
   "cell_type": "code",
   "execution_count": 26,
   "metadata": {
    "collapsed": true
   },
   "outputs": [],
   "source": [
    "station.write.saveAsTable(\"station\")\n",
    "status.write.saveAsTable(\"status\")\n",
    "trip.write.saveAsTable(\"trip\")\n",
    "weather.write.saveAsTable(\"weather\")"
   ]
  },
  {
   "cell_type": "code",
   "execution_count": 27,
   "metadata": {},
   "outputs": [
    {
     "data": {
      "text/plain": [
       "[Row(id=2, name=u'San Jose Diridon Caltrain Station', lat=37.329732, long=-121.901782, dock_count=27, city=u'San Jose', age=1244),\n",
       " Row(id=3, name=u'San Jose Civic Center', lat=37.330698, long=-121.888979, dock_count=15, city=u'San Jose', age=1245)]"
      ]
     },
     "execution_count": 27,
     "metadata": {},
     "output_type": "execute_result"
    }
   ],
   "source": [
    "# Station table\n",
    "sqlContext.sql(\"\"\"select id, name, lat, long, dock_count, city, \n",
    "    DATEDIFF(cast('2017-01-01 00:00:00' as TIMESTAMP), installation_date) as age from station limit 2\"\"\").collect()"
   ]
  },
  {
   "cell_type": "code",
   "execution_count": 37,
   "metadata": {},
   "outputs": [
    {
     "data": {
      "text/plain": [
       "[Row(station_id=5, hour=12, weekday_flag=1, docks_available=9.879248947879573, bikes_available=9.120751052120427),\n",
       " Row(station_id=5, hour=2, weekday_flag=0, docks_available=10.020046260601388, bikes_available=8.979953739398612)]"
      ]
     },
     "execution_count": 37,
     "metadata": {},
     "output_type": "execute_result"
    }
   ],
   "source": [
    "# Status table\n",
    "sqlContext.sql(\"\"\"select station_id, hour(time) as hour, \n",
    "(case when date_format(time, 'EEEE') in ('Saturday', 'Sunday') then 1 else 0 end) as weekday_flag, \n",
    "avg(docks_available) as docks_available,\n",
    "avg(bikes_available) as bikes_available\n",
    "from status group by 1,2,3 limit 2\"\"\").collect()"
   ]
  },
  {
   "cell_type": "code",
   "execution_count": 30,
   "metadata": {},
   "outputs": [
    {
     "data": {
      "text/plain": [
       "[Row(zip_code=94041, month=6, year=2015, weekday_flag=0, max_temperature_f=76.63636363636364, mean_temperature_f=67.0909090909091, min_temperature_f=56.95454545454545, max_dew_point_f=57.81818181818182, mean_dew_point_f=54.77272727272727, min_dew_point_f=51.45454545454545, max_humidity=86.4090909090909, mean_humidity=68.0, min_humidity=49.13636363636363, max_sea_level_pressure_inches=29.97681818181819, mean_sea_level_pressure_inches=29.93409090909091, min_sea_level_pressure_inches=29.886818181818175, max_visibility_miles=10.0, mean_visibility_miles=9.863636363636363, min_visibility_miles=9.136363636363637, max_wind_Speed_mph=17.727272727272727, mean_wind_speed_mph=6.590909090909091, max_gust_speed_mph=23.19047619047619, precipitation_inches=0.005238095238095238, cloud_cover=1.5909090909090908, wind_dir_degrees=230.4090909090909, events=0.09090909090909091)]"
      ]
     },
     "execution_count": 30,
     "metadata": {},
     "output_type": "execute_result"
    }
   ],
   "source": [
    "# Weather table\n",
    "sqlContext.sql(\"\"\"select zip_code, month(date) as month, year(date) as year,\n",
    "(case when date_format(date, 'EEEE') in ('Saturday', 'Sunday') then 1 else 0 end) as weekday_flag,\n",
    "avg(max_temperature_f) as max_temperature_f, avg(mean_temperature_f) as mean_temperature_f,\n",
    "avg(min_temperature_f) as min_temperature_f, avg(max_dew_point_f) as max_dew_point_f,\n",
    "avg(mean_dew_point_f) as mean_dew_point_f, avg(min_dew_point_f) as min_dew_point_f,\n",
    "avg(max_humidity) as max_humidity, avg(mean_humidity) as mean_humidity,\n",
    "avg(min_humidity) as min_humidity, avg(max_sea_level_pressure_inches) as max_sea_level_pressure_inches,\n",
    "avg(mean_sea_level_pressure_inches) as mean_sea_level_pressure_inches,\n",
    "avg(min_sea_level_pressure_inches) as min_sea_level_pressure_inches,\n",
    "avg(max_visibility_miles) as max_visibility_miles, avg(mean_visibility_miles) as mean_visibility_miles,\n",
    "avg(min_visibility_miles) as min_visibility_miles, avg(max_wind_Speed_mph) as max_wind_Speed_mph,\n",
    "avg(mean_wind_speed_mph) as mean_wind_speed_mph, avg(max_gust_speed_mph) as max_gust_speed_mph,\n",
    "avg(precipitation_inches) as precipitation_inches, avg(cloud_cover) as cloud_cover,\n",
    "avg(wind_dir_degrees) as wind_dir_degrees,\n",
    "avg(case when events = 'Fog' then 1 when (events = 'rain' or events = 'Rain') then 2 when events = 'Fog-Rain' then 3\n",
    " when events = 'Rain-Thunderstorm' then 4 else 0 end) as events\n",
    "from weather group by 1,2,3,4 limit 1\"\"\").collect()"
   ]
  },
  {
   "cell_type": "markdown",
   "metadata": {},
   "source": [
    "## Final combined dataset"
   ]
  },
  {
   "cell_type": "code",
   "execution_count": 27,
   "metadata": {
    "collapsed": true
   },
   "outputs": [],
   "source": [
    "final_df = sqlContext.sql(\"\"\"select W.station_id, W.weekday_flag, W.year, W.month, W.hour,\n",
    "    X.dock_count, X.name, X.age, X.lat, X.long, X.city,        \n",
    "    Y.mean_temperature_f, Y.max_dew_point_f, Y.min_dew_point_f,\n",
    "    Y.mean_humidity, Y.max_sea_level_pressure_inches, Y.mean_sea_level_pressure_inches,\n",
    "    Y.min_sea_level_pressure_inches, Y.max_visibility_miles, Y.mean_visibility_miles,\n",
    "    Y.min_visibility_miles, Y.max_wind_Speed_mph, Y.mean_wind_speed_mph, Y.max_gust_speed_mph,\n",
    "    Y.precipitation_inches, Y.cloud_cover, Y.wind_dir_degrees, Y.events,\n",
    "    incoming_bikes-outgoing_bikes as bike_traffic\n",
    "    from\n",
    "    (\n",
    "        select cast(zip_code as int) as zipcode, a.start_station_id as station_id, a.hour,\n",
    "        (case when date_format(start_date, 'EEEE') in ('Saturday', 'Sunday') then 1 else 0 end) as weekday_flag,\n",
    "        month(start_date) as month, year(start_date) as year,\n",
    "        avg(outgoing_bikes) as outgoing_bikes, avg(incoming_bikes) as incoming_bikes\n",
    "        from\n",
    "        (\n",
    "            select zip_code, hour(start_date) as hour, start_station_id, cast(start_date as DATE) as start_date,\n",
    "            avg(duration) as avg_duration, sum(1) as outgoing_bikes\n",
    "            from trip\n",
    "            group by 1,2,3,4\n",
    "        ) as a\n",
    "        left join\n",
    "        (\n",
    "            select hour(end_date) as hour, end_station_id, cast(end_date as DATE) as end_date, sum(1) as incoming_bikes\n",
    "            from trip\n",
    "            group by 1,2,3\n",
    "        ) as b\n",
    "        on a.start_station_id = b.end_station_id and a.hour = b.hour and a.start_date = b.end_date\n",
    "        group by 1,2,3,4,5,6\n",
    "    ) as W\n",
    "    left join\n",
    "    (\n",
    "        select id, name, lat, long, dock_count, city, \n",
    "        DATEDIFF(cast('2017-01-01 00:00:00' as TIMESTAMP), installation_date) as age \n",
    "        from station\n",
    "    ) as X\n",
    "    on W.station_id = X.id\n",
    "    left join\n",
    "    (\n",
    "        select cast(zip_code as int) as zipcode, month(date) as month, year(date) as year,\n",
    "        (case when date_format(date, 'EEEE') in ('Saturday', 'Sunday') then 1 else 0 end) as weekday_flag,\n",
    "        avg(max_temperature_f) as max_temperature_f, avg(mean_temperature_f) as mean_temperature_f,\n",
    "        avg(min_temperature_f) as min_temperature_f, avg(max_dew_point_f) as max_dew_point_f,\n",
    "        avg(mean_dew_point_f) as mean_dew_point_f, avg(min_dew_point_f) as min_dew_point_f,\n",
    "        avg(max_humidity) as max_humidity, avg(mean_humidity) as mean_humidity,\n",
    "        avg(min_humidity) as min_humidity, avg(max_sea_level_pressure_inches) as max_sea_level_pressure_inches,\n",
    "        avg(mean_sea_level_pressure_inches) as mean_sea_level_pressure_inches,\n",
    "        avg(min_sea_level_pressure_inches) as min_sea_level_pressure_inches,\n",
    "        avg(max_visibility_miles) as max_visibility_miles, avg(mean_visibility_miles) as mean_visibility_miles,\n",
    "        avg(min_visibility_miles) as min_visibility_miles, avg(max_wind_Speed_mph) as max_wind_Speed_mph,\n",
    "        avg(mean_wind_speed_mph) as mean_wind_speed_mph, avg(max_gust_speed_mph) as max_gust_speed_mph,\n",
    "        avg(precipitation_inches) as precipitation_inches, avg(cloud_cover) as cloud_cover,\n",
    "        avg(wind_dir_degrees) as wind_dir_degrees,\n",
    "        avg(case when events = 'Fog' then 1 when (events = 'rain' or events = 'Rain') then 2 when events = 'Fog-Rain' then 3\n",
    "         when events = 'Rain-Thunderstorm' then 4 else 0 end) as events\n",
    "        from weather \n",
    "        group by 1,2,3,4\n",
    "    ) as Y\n",
    "    on W.zipcode=Y.zipcode and W.weekday_flag=Y.weekday_flag and W.month=Y.month and W.year=Y.year\n",
    "    left join\n",
    "    (\n",
    "        select station_id, hour(time) as hour, month(time) as month, year(time) as year,\n",
    "        (case when date_format(time, 'EEEE') in ('Saturday', 'Sunday') then 1 else 0 end) as weekday_flag, \n",
    "        avg(docks_available) as docks_available,\n",
    "        avg(bikes_available) as bikes_available\n",
    "        from status \n",
    "        group by 1,2,3,4,5\n",
    "    ) as Z\n",
    "    on W.station_id=Z.station_id and W.hour=Z.hour and W.weekday_flag=Z.weekday_flag and W.month=Z.month and W.year=Z.year\n",
    "\"\"\")"
   ]
  },
  {
   "cell_type": "code",
   "execution_count": 28,
   "metadata": {},
   "outputs": [
    {
     "name": "stdout",
     "output_type": "stream",
     "text": [
      "root\n",
      " |-- station_id: integer (nullable = true)\n",
      " |-- weekday_flag: integer (nullable = false)\n",
      " |-- year: integer (nullable = true)\n",
      " |-- month: integer (nullable = true)\n",
      " |-- hour: integer (nullable = true)\n",
      " |-- dock_count: integer (nullable = true)\n",
      " |-- name: string (nullable = true)\n",
      " |-- age: integer (nullable = true)\n",
      " |-- lat: double (nullable = true)\n",
      " |-- long: double (nullable = true)\n",
      " |-- city: string (nullable = true)\n",
      " |-- mean_temperature_f: double (nullable = true)\n",
      " |-- max_dew_point_f: double (nullable = true)\n",
      " |-- min_dew_point_f: double (nullable = true)\n",
      " |-- mean_humidity: double (nullable = true)\n",
      " |-- max_sea_level_pressure_inches: double (nullable = true)\n",
      " |-- mean_sea_level_pressure_inches: double (nullable = true)\n",
      " |-- min_sea_level_pressure_inches: double (nullable = true)\n",
      " |-- max_visibility_miles: double (nullable = true)\n",
      " |-- mean_visibility_miles: double (nullable = true)\n",
      " |-- min_visibility_miles: double (nullable = true)\n",
      " |-- max_wind_Speed_mph: double (nullable = true)\n",
      " |-- mean_wind_speed_mph: double (nullable = true)\n",
      " |-- max_gust_speed_mph: double (nullable = true)\n",
      " |-- precipitation_inches: double (nullable = true)\n",
      " |-- cloud_cover: double (nullable = true)\n",
      " |-- wind_dir_degrees: double (nullable = true)\n",
      " |-- events: double (nullable = true)\n",
      " |-- bike_traffic: double (nullable = true)\n",
      "\n"
     ]
    }
   ],
   "source": [
    "final_df.printSchema()"
   ]
  },
  {
   "cell_type": "code",
   "execution_count": 29,
   "metadata": {},
   "outputs": [
    {
     "data": {
      "text/plain": [
       "[Row(station_id=72, weekday_flag=0, year=2013, month=11, hour=8, dock_count=23, name=u'Civic Center BART (7th at Market)', age=1227, lat=37.781039, long=-122.411748, city=u'San Francisco', mean_temperature_f=None, max_dew_point_f=None, min_dew_point_f=None, mean_humidity=None, max_sea_level_pressure_inches=None, mean_sea_level_pressure_inches=None, min_sea_level_pressure_inches=None, max_visibility_miles=None, mean_visibility_miles=None, min_visibility_miles=None, max_wind_Speed_mph=None, mean_wind_speed_mph=None, max_gust_speed_mph=None, precipitation_inches=None, cloud_cover=None, wind_dir_degrees=None, events=None, bike_traffic=0.8181818181818181)]"
      ]
     },
     "execution_count": 29,
     "metadata": {},
     "output_type": "execute_result"
    }
   ],
   "source": [
    "#final_df.where(col(\"hour\").isNull()).show()\n",
    "final_df.take(1)"
   ]
  },
  {
   "cell_type": "code",
   "execution_count": 45,
   "metadata": {
    "collapsed": true
   },
   "outputs": [],
   "source": [
    "final_df.write.saveAsTable(\"final_df\")"
   ]
  },
  {
   "cell_type": "markdown",
   "metadata": {},
   "source": [
    "## Model Building"
   ]
  },
  {
   "cell_type": "code",
   "execution_count": 31,
   "metadata": {
    "collapsed": true
   },
   "outputs": [
    {
     "name": "stdout",
     "output_type": "stream",
     "text": [
      "+----------+------------+----+-----+----+----------+--------------------+----+---------+-----------+-------------+------------------+---------------+---------------+-------------+-----------------------------+------------------------------+-----------------------------+--------------------+---------------------+--------------------+------------------+-------------------+------------------+--------------------+-----------+----------------+------+------------------+\n",
      "|station_id|weekday_flag|year|month|hour|dock_count|                name| age|      lat|       long|         city|mean_temperature_f|max_dew_point_f|min_dew_point_f|mean_humidity|max_sea_level_pressure_inches|mean_sea_level_pressure_inches|min_sea_level_pressure_inches|max_visibility_miles|mean_visibility_miles|min_visibility_miles|max_wind_Speed_mph|mean_wind_speed_mph|max_gust_speed_mph|precipitation_inches|cloud_cover|wind_dir_degrees|events|      bike_traffic|\n",
      "+----------+------------+----+-----+----+----------+--------------------+----+---------+-----------+-------------+------------------+---------------+---------------+-------------+-----------------------------+------------------------------+-----------------------------+--------------------+---------------------+--------------------+------------------+-------------------+------------------+--------------------+-----------+----------------+------+------------------+\n",
      "|        72|           0|2013|   11|   8|        23|Civic Center BART...|1227|37.781039|-122.411748|San Francisco|               0.0|            0.0|            0.0|          0.0|                          0.0|                           0.0|                          0.0|                 0.0|                  0.0|                 0.0|               0.0|                0.0|               0.0|                 0.0|        0.0|             0.0|   0.0|0.8181818181818181|\n",
      "|        67|           0|2013|   12|  21|        27|      Market at 10th|1227|37.776619|-122.417385|San Francisco|               0.0|            0.0|            0.0|          0.0|                          0.0|                           0.0|                          0.0|                 0.0|                  0.0|                 0.0|               0.0|                0.0|               0.0|                 0.0|        0.0|             0.0|   0.0|               0.0|\n",
      "|        54|           0|2014|    2|  12|        15|Embarcadero at Br...|1230|37.787152|-122.388013|San Francisco|               0.0|            0.0|            0.0|          0.0|                          0.0|                           0.0|                          0.0|                 0.0|                  0.0|                 0.0|               0.0|                0.0|               0.0|                 0.0|        0.0|             0.0|   0.0|0.6666666666666667|\n",
      "|        50|           0|2014|    8|   6|        23|Harry Bridges Pla...|1230|37.795392|-122.394203|San Francisco|               0.0|            0.0|            0.0|          0.0|                          0.0|                           0.0|                          0.0|                 0.0|                  0.0|                 0.0|               0.0|                0.0|               0.0|                 0.0|        0.0|             0.0|   0.0|               2.0|\n",
      "|         7|           0|2014|    7|  20|        15|Paseo de San Antonio|1243|37.333798|-121.886943|     San Jose|               0.0|            0.0|            0.0|          0.0|                          0.0|                           0.0|                          0.0|                 0.0|                  0.0|                 0.0|               0.0|                0.0|               0.0|                 0.0|        0.0|             0.0|   0.0|              0.25|\n",
      "|        58|           0|2014|    6|  10|        19|San Francisco Cit...|1229| 37.77865|-122.418235|San Francisco|               0.0|            0.0|            0.0|          0.0|                          0.0|                           0.0|                          0.0|                 0.0|                  0.0|                 0.0|               0.0|                0.0|               0.0|                 0.0|        0.0|             0.0|   0.0|               0.0|\n",
      "|        66|           0|2014|    6|  19|        19|South Van Ness at...|1227|37.774814|-122.418954|San Francisco|               0.0|            0.0|            0.0|          0.0|                          0.0|                           0.0|                          0.0|                 0.0|                  0.0|                 0.0|               0.0|                0.0|               0.0|                 0.0|        0.0|             0.0|   0.0|               3.0|\n",
      "|        28|           0|2014|    6|   9|        23|Mountain View Cal...|1235|37.394358|-122.076713|Mountain View|               0.0|            0.0|            0.0|          0.0|                          0.0|                           0.0|                          0.0|                 0.0|                  0.0|                 0.0|               0.0|                0.0|               0.0|                 0.0|        0.0|             0.0|   0.0|               0.0|\n",
      "|        77|           0|2014|    6|  17|        27|   Market at Sansome|1225|37.789625|-122.400811|San Francisco|               0.0|            0.0|            0.0|          0.0|                          0.0|                           0.0|                          0.0|                 0.0|                  0.0|                 0.0|               0.0|                0.0|               0.0|                 0.0|        0.0|             0.0|   0.0| 5.636363636363637|\n",
      "|        48|           0|2014|    3|  11|        15|Embarcadero at Va...|1231|37.799953|-122.398525|San Francisco|               0.0|            0.0|            0.0|          0.0|                          0.0|                           0.0|                          0.0|                 0.0|                  0.0|                 0.0|               0.0|                0.0|               0.0|                 0.0|        0.0|             0.0|   0.0|               0.0|\n",
      "|        77|           0|2014|    3|   9|        27|   Market at Sansome|1225|37.789625|-122.400811|San Francisco|               0.0|            0.0|            0.0|          0.0|                          0.0|                           0.0|                          0.0|                 0.0|                  0.0|                 0.0|               0.0|                0.0|               0.0|                 0.0|        0.0|             0.0|   0.0|               7.0|\n",
      "|        68|           0|2015|    3|  12|        19|Yerba Buena Cente...|1227|37.784878|-122.401014|San Francisco|               0.0|            0.0|            0.0|          0.0|                          0.0|                           0.0|                          0.0|                 0.0|                  0.0|                 0.0|               0.0|                0.0|               0.0|                 0.0|        0.0|             0.0|   0.0|               0.0|\n",
      "|        60|           0|2015|    2|  16|        15|Embarcadero at Sa...|1229| 37.80477|-122.403234|San Francisco|               0.0|            0.0|            0.0|          0.0|                          0.0|                           0.0|                          0.0|                 0.0|                  0.0|                 0.0|               0.0|                0.0|               0.0|                 0.0|        0.0|             0.0|   0.0|1.2999999999999998|\n",
      "|        61|           0|2015|    2|  16|        27|     2nd at Townsend|1228|37.780526|-122.390288|San Francisco|               0.0|            0.0|            0.0|          0.0|                          0.0|                           0.0|                          0.0|                 0.0|                  0.0|                 0.0|               0.0|                0.0|               0.0|                 0.0|        0.0|             0.0|   0.0|               0.0|\n",
      "|        76|           0|2014|   10|  13|        19|       Market at 4th|1225|37.786305|-122.404966|San Francisco|               0.0|            0.0|            0.0|          0.0|                          0.0|                           0.0|                          0.0|                 0.0|                  0.0|                 0.0|               0.0|                0.0|               0.0|                 0.0|        0.0|             0.0|   0.0|              1.55|\n",
      "|        74|           0|2014|   10|  13|        23|   Steuart at Market|1225|37.794139|-122.394434|San Francisco|               0.0|            0.0|            0.0|          0.0|                          0.0|                           0.0|                          0.0|                 0.0|                  0.0|                 0.0|               0.0|                0.0|               0.0|                 0.0|        0.0|             0.0|   0.0|              0.75|\n",
      "|        68|           0|2013|   10|  13|        19|Yerba Buena Cente...|1227|37.784878|-122.401014|San Francisco|               0.0|            0.0|            0.0|          0.0|                          0.0|                           0.0|                          0.0|                 0.0|                  0.0|                 0.0|               0.0|                0.0|               0.0|                 0.0|        0.0|             0.0|   0.0|               1.0|\n",
      "|        70|           0|2014|    8|  11|        19|San Francisco Cal...|1227|37.776617| -122.39526|San Francisco|               0.0|            0.0|            0.0|          0.0|                          0.0|                           0.0|                          0.0|                 0.0|                  0.0|                 0.0|               0.0|                0.0|               0.0|                 0.0|        0.0|             0.0|   0.0|               0.0|\n",
      "|         8|           1|2014|    4|  10|        15| San Salvador at 1st|1245|37.330165|-121.885831|     San Jose|               0.0|            0.0|            0.0|          0.0|                          0.0|                           0.0|                          0.0|                 0.0|                  0.0|                 0.0|               0.0|                0.0|               0.0|                 0.0|        0.0|             0.0|   0.0|               0.0|\n",
      "|        70|           0|2014|    3|   8|        19|San Francisco Cal...|1227|37.776617| -122.39526|San Francisco|               0.0|            0.0|            0.0|          0.0|                          0.0|                           0.0|                          0.0|                 0.0|                  0.0|                 0.0|               0.0|                0.0|               0.0|                 0.0|        0.0|             0.0|   0.0| 8.545454545454545|\n",
      "+----------+------------+----+-----+----+----------+--------------------+----+---------+-----------+-------------+------------------+---------------+---------------+-------------+-----------------------------+------------------------------+-----------------------------+--------------------+---------------------+--------------------+------------------+-------------------+------------------+--------------------+-----------+----------------+------+------------------+\n",
      "only showing top 20 rows\n",
      "\n"
     ]
    }
   ],
   "source": [
    "# Fill NAs\n",
    "final_df = final_df.fillna(0)\n",
    "final_df.show()"
   ]
  },
  {
   "cell_type": "code",
   "execution_count": 32,
   "metadata": {
    "collapsed": true
   },
   "outputs": [],
   "source": [
    "#converting strings to numeric values\n",
    "from pyspark.ml.feature import StringIndexer\n",
    "\n",
    "def indexStringColumns(df, cols):\n",
    "    #variable newdf will be updated several times\n",
    "    newdf = df\n",
    "    \n",
    "    for c in cols:\n",
    "        #For each given colum, fits StringIndexerModel.\n",
    "        si = StringIndexer(inputCol=c, outputCol=c+\"-num\")\n",
    "        sm = si.fit(newdf)\n",
    "        #Creates a DataFame by putting the transformed values in the new colum with suffix \"-num\" \n",
    "        #and then drops the original columns.\n",
    "        #and drop the \"-num\" suffix. \n",
    "        newdf = sm.transform(newdf).drop(c)\n",
    "        newdf = newdf.withColumnRenamed(c+\"-num\", c)\n",
    "    return newdf\n",
    "\n",
    "dfnumeric = indexStringColumns(final_df, [\"name\", \"city\"])"
   ]
  },
  {
   "cell_type": "code",
   "execution_count": 33,
   "metadata": {
    "collapsed": true
   },
   "outputs": [],
   "source": [
    "# Merging the data with Vector Assembler.\n",
    "from pyspark.ml.feature import VectorAssembler\n",
    "\n",
    "va = VectorAssembler(outputCol=\"features\", inputCols=dfnumeric.schema.names)\n",
    "#lpoints - labeled data.\n",
    "lpoints = va.transform(dfnumeric).select(\"features\", \"bike_traffic\").withColumnRenamed(\"bike_traffic\", \"label\")"
   ]
  },
  {
   "cell_type": "code",
   "execution_count": 43,
   "metadata": {
    "collapsed": true
   },
   "outputs": [
    {
     "name": "stdout",
     "output_type": "stream",
     "text": [
      "+--------------------+------------------+\n",
      "|            features|             label|\n",
      "+--------------------+------------------+\n",
      "|(29,[0,2,3,4,5,6,...|0.8181818181818181|\n",
      "|(29,[0,2,3,4,5,6,...|               0.0|\n",
      "|(29,[0,2,3,4,5,6,...|0.6666666666666667|\n",
      "|(29,[0,2,3,4,5,6,...|               2.0|\n",
      "|(29,[0,2,3,4,5,6,...|              0.25|\n",
      "|(29,[0,2,3,4,5,6,...|               0.0|\n",
      "|(29,[0,2,3,4,5,6,...|               3.0|\n",
      "|(29,[0,2,3,4,5,6,...|               0.0|\n",
      "|(29,[0,2,3,4,5,6,...| 5.636363636363637|\n",
      "|(29,[0,2,3,4,5,6,...|               0.0|\n",
      "|(29,[0,2,3,4,5,6,...|               7.0|\n",
      "|(29,[0,2,3,4,5,6,...|               0.0|\n",
      "|(29,[0,2,3,4,5,6,...|1.2999999999999998|\n",
      "|(29,[0,2,3,4,5,6,...|               0.0|\n",
      "|(29,[0,2,3,4,5,6,...|              1.55|\n",
      "|(29,[0,2,3,4,5,6,...|              0.75|\n",
      "|(29,[0,2,3,4,5,6,...|               1.0|\n",
      "|(29,[0,2,3,4,5,6,...|               0.0|\n",
      "|(29,[0,1,2,3,4,5,...|               0.0|\n",
      "|(29,[0,2,3,4,5,6,...| 8.545454545454545|\n",
      "+--------------------+------------------+\n",
      "only showing top 20 rows\n",
      "\n"
     ]
    }
   ],
   "source": [
    "lpoints.show()"
   ]
  },
  {
   "cell_type": "code",
   "execution_count": 40,
   "metadata": {
    "collapsed": true
   },
   "outputs": [],
   "source": [
    "#Divide the dataset into training and testing sets.\n",
    "splits = lpoints.randomSplit([0.8, 0.2])\n",
    "\n",
    "#cache() : the algorithm is interative and training and data sets are going to be reused many times.\n",
    "train_df = splits[0].cache()\n",
    "valid_df = splits[1].cache()"
   ]
  },
  {
   "cell_type": "code",
   "execution_count": 44,
   "metadata": {},
   "outputs": [
    {
     "ename": "ImportError",
     "evalue": "cannot import name LinearRegression",
     "output_type": "error",
     "traceback": [
      "\u001b[0;31m---------------------------------------------------------------------------\u001b[0m",
      "\u001b[0;31mImportError\u001b[0m                               Traceback (most recent call last)",
      "\u001b[0;32m<ipython-input-44-010fda8ebb3e>\u001b[0m in \u001b[0;36m<module>\u001b[0;34m()\u001b[0m\n\u001b[1;32m      1\u001b[0m \u001b[0;31m#Train the model.\u001b[0m\u001b[0;34m\u001b[0m\u001b[0;34m\u001b[0m\u001b[0m\n\u001b[0;32m----> 2\u001b[0;31m \u001b[0;32mfrom\u001b[0m \u001b[0mpyspark\u001b[0m\u001b[0;34m.\u001b[0m\u001b[0mml\u001b[0m\u001b[0;34m.\u001b[0m\u001b[0mclassification\u001b[0m \u001b[0;32mimport\u001b[0m \u001b[0mLinearRegression\u001b[0m\u001b[0;34m\u001b[0m\u001b[0m\n\u001b[0m\u001b[1;32m      3\u001b[0m \u001b[0mlr\u001b[0m \u001b[0;34m=\u001b[0m \u001b[0mLinearRegression\u001b[0m\u001b[0;34m(\u001b[0m\u001b[0mregParam\u001b[0m\u001b[0;34m=\u001b[0m\u001b[0;36m0.01\u001b[0m\u001b[0;34m,\u001b[0m \u001b[0mmaxIter\u001b[0m\u001b[0;34m=\u001b[0m\u001b[0;36m1000\u001b[0m\u001b[0;34m,\u001b[0m \u001b[0mfitIntercept\u001b[0m\u001b[0;34m=\u001b[0m\u001b[0mTrue\u001b[0m\u001b[0;34m)\u001b[0m\u001b[0;34m\u001b[0m\u001b[0m\n",
      "\u001b[0;31mImportError\u001b[0m: cannot import name LinearRegression"
     ]
    }
   ],
   "source": [
    "#Train the model.\n",
    "from pyspark.ml.linalg import Vectors\n",
    "lr = LinearRegression(maxIter=5, regParam=0.0, solver=\"normal\", weightCol=\"weight\")\n",
    "model = lr.fit(train_df)"
   ]
  },
  {
   "cell_type": "code",
   "execution_count": 42,
   "metadata": {},
   "outputs": [
    {
     "ename": "Py4JJavaError",
     "evalue": "An error occurred while calling o402.fit.\n: org.apache.spark.SparkException: Classification labels should be in [0 to 54]. Found 40112 invalid labels.\n\tat org.apache.spark.ml.classification.LogisticRegression.train(LogisticRegression.scala:563)\n\tat org.apache.spark.ml.classification.LogisticRegression.train(LogisticRegression.scala:487)\n\tat org.apache.spark.ml.classification.LogisticRegression.train(LogisticRegression.scala:278)\n\tat org.apache.spark.ml.Predictor.fit(Predictor.scala:118)\n\tat sun.reflect.NativeMethodAccessorImpl.invoke0(Native Method)\n\tat sun.reflect.NativeMethodAccessorImpl.invoke(NativeMethodAccessorImpl.java:62)\n\tat sun.reflect.DelegatingMethodAccessorImpl.invoke(DelegatingMethodAccessorImpl.java:43)\n\tat java.lang.reflect.Method.invoke(Method.java:498)\n\tat py4j.reflection.MethodInvoker.invoke(MethodInvoker.java:244)\n\tat py4j.reflection.ReflectionEngine.invoke(ReflectionEngine.java:357)\n\tat py4j.Gateway.invoke(Gateway.java:280)\n\tat py4j.commands.AbstractCommand.invokeMethod(AbstractCommand.java:132)\n\tat py4j.commands.CallCommand.execute(CallCommand.java:79)\n\tat py4j.GatewayConnection.run(GatewayConnection.java:214)\n\tat java.lang.Thread.run(Thread.java:748)\n",
     "output_type": "error",
     "traceback": [
      "\u001b[0;31m---------------------------------------------------------------------------\u001b[0m",
      "\u001b[0;31mPy4JJavaError\u001b[0m                             Traceback (most recent call last)",
      "\u001b[0;32m<ipython-input-42-ac71edc1924f>\u001b[0m in \u001b[0;36m<module>\u001b[0;34m()\u001b[0m\n\u001b[0;32m----> 1\u001b[0;31m \u001b[0mlrmodel\u001b[0m \u001b[0;34m=\u001b[0m \u001b[0mlr\u001b[0m\u001b[0;34m.\u001b[0m\u001b[0mfit\u001b[0m\u001b[0;34m(\u001b[0m\u001b[0mtrain_df\u001b[0m\u001b[0;34m)\u001b[0m\u001b[0;34m\u001b[0m\u001b[0m\n\u001b[0m",
      "\u001b[0;32m/Users/deena/anaconda/lib/python2.7/site-packages/pyspark/ml/base.pyc\u001b[0m in \u001b[0;36mfit\u001b[0;34m(self, dataset, params)\u001b[0m\n\u001b[1;32m     62\u001b[0m                 \u001b[0;32mreturn\u001b[0m \u001b[0mself\u001b[0m\u001b[0;34m.\u001b[0m\u001b[0mcopy\u001b[0m\u001b[0;34m(\u001b[0m\u001b[0mparams\u001b[0m\u001b[0;34m)\u001b[0m\u001b[0;34m.\u001b[0m\u001b[0m_fit\u001b[0m\u001b[0;34m(\u001b[0m\u001b[0mdataset\u001b[0m\u001b[0;34m)\u001b[0m\u001b[0;34m\u001b[0m\u001b[0m\n\u001b[1;32m     63\u001b[0m             \u001b[0;32melse\u001b[0m\u001b[0;34m:\u001b[0m\u001b[0;34m\u001b[0m\u001b[0m\n\u001b[0;32m---> 64\u001b[0;31m                 \u001b[0;32mreturn\u001b[0m \u001b[0mself\u001b[0m\u001b[0;34m.\u001b[0m\u001b[0m_fit\u001b[0m\u001b[0;34m(\u001b[0m\u001b[0mdataset\u001b[0m\u001b[0;34m)\u001b[0m\u001b[0;34m\u001b[0m\u001b[0m\n\u001b[0m\u001b[1;32m     65\u001b[0m         \u001b[0;32melse\u001b[0m\u001b[0;34m:\u001b[0m\u001b[0;34m\u001b[0m\u001b[0m\n\u001b[1;32m     66\u001b[0m             raise ValueError(\"Params must be either a param map or a list/tuple of param maps, \"\n",
      "\u001b[0;32m/Users/deena/anaconda/lib/python2.7/site-packages/pyspark/ml/wrapper.pyc\u001b[0m in \u001b[0;36m_fit\u001b[0;34m(self, dataset)\u001b[0m\n\u001b[1;32m    263\u001b[0m \u001b[0;34m\u001b[0m\u001b[0m\n\u001b[1;32m    264\u001b[0m     \u001b[0;32mdef\u001b[0m \u001b[0m_fit\u001b[0m\u001b[0;34m(\u001b[0m\u001b[0mself\u001b[0m\u001b[0;34m,\u001b[0m \u001b[0mdataset\u001b[0m\u001b[0;34m)\u001b[0m\u001b[0;34m:\u001b[0m\u001b[0;34m\u001b[0m\u001b[0m\n\u001b[0;32m--> 265\u001b[0;31m         \u001b[0mjava_model\u001b[0m \u001b[0;34m=\u001b[0m \u001b[0mself\u001b[0m\u001b[0;34m.\u001b[0m\u001b[0m_fit_java\u001b[0m\u001b[0;34m(\u001b[0m\u001b[0mdataset\u001b[0m\u001b[0;34m)\u001b[0m\u001b[0;34m\u001b[0m\u001b[0m\n\u001b[0m\u001b[1;32m    266\u001b[0m         \u001b[0;32mreturn\u001b[0m \u001b[0mself\u001b[0m\u001b[0;34m.\u001b[0m\u001b[0m_create_model\u001b[0m\u001b[0;34m(\u001b[0m\u001b[0mjava_model\u001b[0m\u001b[0;34m)\u001b[0m\u001b[0;34m\u001b[0m\u001b[0m\n\u001b[1;32m    267\u001b[0m \u001b[0;34m\u001b[0m\u001b[0m\n",
      "\u001b[0;32m/Users/deena/anaconda/lib/python2.7/site-packages/pyspark/ml/wrapper.pyc\u001b[0m in \u001b[0;36m_fit_java\u001b[0;34m(self, dataset)\u001b[0m\n\u001b[1;32m    260\u001b[0m         \"\"\"\n\u001b[1;32m    261\u001b[0m         \u001b[0mself\u001b[0m\u001b[0;34m.\u001b[0m\u001b[0m_transfer_params_to_java\u001b[0m\u001b[0;34m(\u001b[0m\u001b[0;34m)\u001b[0m\u001b[0;34m\u001b[0m\u001b[0m\n\u001b[0;32m--> 262\u001b[0;31m         \u001b[0;32mreturn\u001b[0m \u001b[0mself\u001b[0m\u001b[0;34m.\u001b[0m\u001b[0m_java_obj\u001b[0m\u001b[0;34m.\u001b[0m\u001b[0mfit\u001b[0m\u001b[0;34m(\u001b[0m\u001b[0mdataset\u001b[0m\u001b[0;34m.\u001b[0m\u001b[0m_jdf\u001b[0m\u001b[0;34m)\u001b[0m\u001b[0;34m\u001b[0m\u001b[0m\n\u001b[0m\u001b[1;32m    263\u001b[0m \u001b[0;34m\u001b[0m\u001b[0m\n\u001b[1;32m    264\u001b[0m     \u001b[0;32mdef\u001b[0m \u001b[0m_fit\u001b[0m\u001b[0;34m(\u001b[0m\u001b[0mself\u001b[0m\u001b[0;34m,\u001b[0m \u001b[0mdataset\u001b[0m\u001b[0;34m)\u001b[0m\u001b[0;34m:\u001b[0m\u001b[0;34m\u001b[0m\u001b[0m\n",
      "\u001b[0;32m/Users/deena/anaconda/lib/python2.7/site-packages/py4j/java_gateway.pyc\u001b[0m in \u001b[0;36m__call__\u001b[0;34m(self, *args)\u001b[0m\n\u001b[1;32m   1131\u001b[0m         \u001b[0manswer\u001b[0m \u001b[0;34m=\u001b[0m \u001b[0mself\u001b[0m\u001b[0;34m.\u001b[0m\u001b[0mgateway_client\u001b[0m\u001b[0;34m.\u001b[0m\u001b[0msend_command\u001b[0m\u001b[0;34m(\u001b[0m\u001b[0mcommand\u001b[0m\u001b[0;34m)\u001b[0m\u001b[0;34m\u001b[0m\u001b[0m\n\u001b[1;32m   1132\u001b[0m         return_value = get_return_value(\n\u001b[0;32m-> 1133\u001b[0;31m             answer, self.gateway_client, self.target_id, self.name)\n\u001b[0m\u001b[1;32m   1134\u001b[0m \u001b[0;34m\u001b[0m\u001b[0m\n\u001b[1;32m   1135\u001b[0m         \u001b[0;32mfor\u001b[0m \u001b[0mtemp_arg\u001b[0m \u001b[0;32min\u001b[0m \u001b[0mtemp_args\u001b[0m\u001b[0;34m:\u001b[0m\u001b[0;34m\u001b[0m\u001b[0m\n",
      "\u001b[0;32m/Users/deena/anaconda/lib/python2.7/site-packages/pyspark/sql/utils.pyc\u001b[0m in \u001b[0;36mdeco\u001b[0;34m(*a, **kw)\u001b[0m\n\u001b[1;32m     61\u001b[0m     \u001b[0;32mdef\u001b[0m \u001b[0mdeco\u001b[0m\u001b[0;34m(\u001b[0m\u001b[0;34m*\u001b[0m\u001b[0ma\u001b[0m\u001b[0;34m,\u001b[0m \u001b[0;34m**\u001b[0m\u001b[0mkw\u001b[0m\u001b[0;34m)\u001b[0m\u001b[0;34m:\u001b[0m\u001b[0;34m\u001b[0m\u001b[0m\n\u001b[1;32m     62\u001b[0m         \u001b[0;32mtry\u001b[0m\u001b[0;34m:\u001b[0m\u001b[0;34m\u001b[0m\u001b[0m\n\u001b[0;32m---> 63\u001b[0;31m             \u001b[0;32mreturn\u001b[0m \u001b[0mf\u001b[0m\u001b[0;34m(\u001b[0m\u001b[0;34m*\u001b[0m\u001b[0ma\u001b[0m\u001b[0;34m,\u001b[0m \u001b[0;34m**\u001b[0m\u001b[0mkw\u001b[0m\u001b[0;34m)\u001b[0m\u001b[0;34m\u001b[0m\u001b[0m\n\u001b[0m\u001b[1;32m     64\u001b[0m         \u001b[0;32mexcept\u001b[0m \u001b[0mpy4j\u001b[0m\u001b[0;34m.\u001b[0m\u001b[0mprotocol\u001b[0m\u001b[0;34m.\u001b[0m\u001b[0mPy4JJavaError\u001b[0m \u001b[0;32mas\u001b[0m \u001b[0me\u001b[0m\u001b[0;34m:\u001b[0m\u001b[0;34m\u001b[0m\u001b[0m\n\u001b[1;32m     65\u001b[0m             \u001b[0ms\u001b[0m \u001b[0;34m=\u001b[0m \u001b[0me\u001b[0m\u001b[0;34m.\u001b[0m\u001b[0mjava_exception\u001b[0m\u001b[0;34m.\u001b[0m\u001b[0mtoString\u001b[0m\u001b[0;34m(\u001b[0m\u001b[0;34m)\u001b[0m\u001b[0;34m\u001b[0m\u001b[0m\n",
      "\u001b[0;32m/Users/deena/anaconda/lib/python2.7/site-packages/py4j/protocol.pyc\u001b[0m in \u001b[0;36mget_return_value\u001b[0;34m(answer, gateway_client, target_id, name)\u001b[0m\n\u001b[1;32m    317\u001b[0m                 raise Py4JJavaError(\n\u001b[1;32m    318\u001b[0m                     \u001b[0;34m\"An error occurred while calling {0}{1}{2}.\\n\"\u001b[0m\u001b[0;34m.\u001b[0m\u001b[0;34m\u001b[0m\u001b[0m\n\u001b[0;32m--> 319\u001b[0;31m                     format(target_id, \".\", name), value)\n\u001b[0m\u001b[1;32m    320\u001b[0m             \u001b[0;32melse\u001b[0m\u001b[0;34m:\u001b[0m\u001b[0;34m\u001b[0m\u001b[0m\n\u001b[1;32m    321\u001b[0m                 raise Py4JError(\n",
      "\u001b[0;31mPy4JJavaError\u001b[0m: An error occurred while calling o402.fit.\n: org.apache.spark.SparkException: Classification labels should be in [0 to 54]. Found 40112 invalid labels.\n\tat org.apache.spark.ml.classification.LogisticRegression.train(LogisticRegression.scala:563)\n\tat org.apache.spark.ml.classification.LogisticRegression.train(LogisticRegression.scala:487)\n\tat org.apache.spark.ml.classification.LogisticRegression.train(LogisticRegression.scala:278)\n\tat org.apache.spark.ml.Predictor.fit(Predictor.scala:118)\n\tat sun.reflect.NativeMethodAccessorImpl.invoke0(Native Method)\n\tat sun.reflect.NativeMethodAccessorImpl.invoke(NativeMethodAccessorImpl.java:62)\n\tat sun.reflect.DelegatingMethodAccessorImpl.invoke(DelegatingMethodAccessorImpl.java:43)\n\tat java.lang.reflect.Method.invoke(Method.java:498)\n\tat py4j.reflection.MethodInvoker.invoke(MethodInvoker.java:244)\n\tat py4j.reflection.ReflectionEngine.invoke(ReflectionEngine.java:357)\n\tat py4j.Gateway.invoke(Gateway.java:280)\n\tat py4j.commands.AbstractCommand.invokeMethod(AbstractCommand.java:132)\n\tat py4j.commands.CallCommand.execute(CallCommand.java:79)\n\tat py4j.GatewayConnection.run(GatewayConnection.java:214)\n\tat java.lang.Thread.run(Thread.java:748)\n"
     ]
    }
   ],
   "source": [
    "lrmodel = lr.fit(train_df)"
   ]
  },
  {
   "cell_type": "code",
   "execution_count": null,
   "metadata": {
    "collapsed": true
   },
   "outputs": [],
   "source": []
  }
 ],
 "metadata": {
  "kernelspec": {
   "display_name": "Python 2",
   "language": "python",
   "name": "python2"
  },
  "language_info": {
   "codemirror_mode": {
    "name": "ipython",
    "version": 2
   },
   "file_extension": ".py",
   "mimetype": "text/x-python",
   "name": "python",
   "nbconvert_exporter": "python",
   "pygments_lexer": "ipython2",
   "version": "2.7.13"
  }
 },
 "nbformat": 4,
 "nbformat_minor": 2
}
